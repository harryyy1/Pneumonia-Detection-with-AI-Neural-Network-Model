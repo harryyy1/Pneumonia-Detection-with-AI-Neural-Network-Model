{
  "nbformat": 4,
  "nbformat_minor": 0,
  "metadata": {
    "colab": {
      "provenance": []
    },
    "kernelspec": {
      "name": "python3",
      "display_name": "Python 3"
    },
    "accelerator": "GPU"
  },
  "cells": [
    {
      "cell_type": "markdown",
      "metadata": {
        "id": "3veiK-TXoGSV"
      },
      "source": [
        "Today, we'll use neural networks for pneumonia detection! We'll practice creating toy neural networks, apply neural networks (including Convolutional Neural Nets!) to our pneumonia data, and experiment with *transfer learning*: learning from an existing \"expert network\"."
      ]
    },
    {
      "cell_type": "markdown",
      "metadata": {
        "id": "Tsa9kzHFh4yU"
      },
      "source": [
        "In this notebook we'll be:\n",
        "1.   Building Neural Networks with Keras\n",
        "2.   Implementing Transfer Learning\n",
        "3.   Evalulating our ML models\n",
        "\n"
      ]
    },
    {
      "cell_type": "code",
      "metadata": {
        "id": "aSeClkWgIORK",
        "colab": {
          "base_uri": "https://localhost:8080/"
        },
        "outputId": "3cb9c1a0-5f82-47b6-b0aa-5e3b22c59c94"
      },
      "source": [
        "#@title Run this to download data and prepare our environment! { display-mode: \"form\" }\n",
        "import numpy as np\n",
        "import pandas as pd\n",
        "\n",
        "import seaborn as sns\n",
        "import matplotlib.pyplot as plt\n",
        "\n",
        "from sklearn.metrics import accuracy_score, confusion_matrix\n",
        "\n",
        "import tensorflow.keras as keras\n",
        "import keras.optimizers as optimizers\n",
        "from keras.models import Sequential\n",
        "from keras.layers import Activation, MaxPooling2D, Dropout, Flatten, InputLayer, Reshape, Dense, Conv2D, GlobalAveragePooling2D, BatchNormalization\n",
        "from keras.regularizers import l2\n",
        "from keras.callbacks import ModelCheckpoint\n",
        "\n",
        "from keras.applications.vgg16 import VGG16\n",
        "from keras.applications.vgg19 import VGG19\n",
        "from tensorflow.keras.applications.resnet50 import ResNet50\n",
        "from keras.applications.densenet import DenseNet121\n",
        "\n",
        "\n",
        "class pkg:\n",
        "  #### DOWNLOADING AND LOADING DATA\n",
        "  def get_metadata(metadata_path, which_splits = ['train', 'test']):\n",
        "    '''returns metadata dataframe which contains columns of:\n",
        "       * index: index of data into numpy data\n",
        "       * class: class of image\n",
        "       * split: which dataset split is this a part of?\n",
        "    '''\n",
        "    metadata = pd.read_csv(metadata_path)\n",
        "    keep_idx = metadata['split'].isin(which_splits)\n",
        "    return metadata[keep_idx]\n",
        "\n",
        "  def get_data_split(split_name, flatten, all_data, metadata, image_shape):\n",
        "    '''\n",
        "    returns images (data), labels from folder of format [image_folder]/[split_name]/[class_name]/\n",
        "    flattens if flatten option is True\n",
        "    '''\n",
        "    sub_df = metadata[metadata['split'].isin([split_name])]\n",
        "    index  = sub_df['index'].values\n",
        "    labels = sub_df['class'].values\n",
        "    data = all_data[index,:]\n",
        "    if flatten:\n",
        "      data = data.reshape([-1, np.product(image_shape)])\n",
        "    return data, labels\n",
        "\n",
        "  def get_train_data(flatten, all_data, metadata, image_shape):\n",
        "    return get_data_split('train', flatten, all_data, metadata, image_shape)\n",
        "\n",
        "  def get_test_data(flatten, all_data, metadata, image_shape):\n",
        "    return get_data_split('test', flatten, all_data, metadata, image_shape)\n",
        "\n",
        "class helpers:\n",
        "  #### PLOTTING\n",
        "  def plot_one_image(data, labels = [], index = None, image_shape = [64,64,3]):\n",
        "    '''\n",
        "    if data is a single image, display that image\n",
        "\n",
        "    if data is a 4d stack of images, display that image\n",
        "    '''\n",
        "    num_dims   = len(data.shape)\n",
        "    num_labels = len(labels)\n",
        "\n",
        "    # reshape data if necessary\n",
        "    if num_dims == 1:\n",
        "      data = data.reshape(target_shape)\n",
        "    if num_dims == 2:\n",
        "      data = data.reshape(np.vstack[-1, image_shape])\n",
        "    num_dims   = len(data.shape)\n",
        "\n",
        "    # check if single or multiple images\n",
        "    if num_dims == 3:\n",
        "      if num_labels > 1:\n",
        "        print('Multiple labels does not make sense for single image.')\n",
        "        return\n",
        "\n",
        "      label = labels\n",
        "      if num_labels == 0:\n",
        "        label = ''\n",
        "      image = data\n",
        "\n",
        "    if num_dims == 4:\n",
        "      image = data[index, :]\n",
        "      label = labels[index]\n",
        "\n",
        "    # plot image of interest\n",
        "    print('Label: %s'%label)\n",
        "    plt.imshow(image)\n",
        "    plt.show()\n",
        "\n",
        "  def plot_acc(history, ax = None, xlabel = 'Epoch #'):\n",
        "    # i'm sorry for this function's code. i am so sorry.\n",
        "    history = history.history\n",
        "    history.update({'epoch':list(range(len(history['val_accuracy'])))})\n",
        "    history = pd.DataFrame.from_dict(history)\n",
        "\n",
        "    best_epoch = history.sort_values(by = 'val_accuracy', ascending = False).iloc[0]['epoch']\n",
        "\n",
        "    if not ax:\n",
        "      f, ax = plt.subplots(1,1)\n",
        "    sns.lineplot(x = 'epoch', y = 'val_accuracy', data = history, label = 'Validation', ax = ax)\n",
        "    sns.lineplot(x = 'epoch', y = 'accuracy', data = history, label = 'Training', ax = ax)\n",
        "    ax.axhline(0.5, linestyle = '--',color='red', label = 'Chance')\n",
        "    ax.axvline(x = best_epoch, linestyle = '--', color = 'green', label = 'Best Epoch')\n",
        "    ax.legend(loc = 4)\n",
        "    ax.set_ylim([0.4, 1])\n",
        "\n",
        "    ax.set_xlabel(xlabel)\n",
        "    ax.set_ylabel('Accuracy (Fraction)')\n",
        "\n",
        "    plt.show()\n",
        "\n",
        "class models:\n",
        "  def DenseClassifier(hidden_layer_sizes, nn_params):\n",
        "    model = Sequential()\n",
        "    model.add(Flatten(input_shape = nn_params['input_shape']))\n",
        "    model.add(Dropout(0.5))\n",
        "\n",
        "    for ilayer in hidden_layer_sizes:\n",
        "      model.add(Dense(ilayer, activation = 'relu'))\n",
        "      model.add(Dropout(0.5))\n",
        "\n",
        "    model.add(Dense(units = nn_params['output_neurons'], activation = nn_params['output_activation']))\n",
        "    model.compile(loss=nn_params['loss'],\n",
        "                  optimizer= keras.optimizers.SGD(learning_rate=1e-4, momentum=0.95),\n",
        "                  metrics=['accuracy'])\n",
        "    return model\n",
        "\n",
        "  def CNNClassifier(num_hidden_layers, nn_params):\n",
        "    model = Sequential()\n",
        "\n",
        "    model.add(Conv2D(32, (3, 3), input_shape=nn_params['input_shape'], padding = 'same', kernel_regularizer=l2(0.01), bias_regularizer=l2(0.01)))\n",
        "    model.add(Activation('relu'))\n",
        "    model.add(MaxPooling2D(pool_size=(2, 2)))\n",
        "\n",
        "    for i in range(num_hidden_layers-1):\n",
        "        model.add(Conv2D(64, (3, 3), padding = 'same', kernel_regularizer=l2(0.01), bias_regularizer=l2(0.01)))\n",
        "        model.add(Activation('relu'))\n",
        "        model.add(MaxPooling2D(pool_size=(2, 2)))\n",
        "\n",
        "    model.add(Flatten())\n",
        "\n",
        "    model.add(Dense(units = 128, activation = 'relu'))\n",
        "    model.add(Dropout(0.5))\n",
        "    model.add(Dense(units = 64, activation = 'relu', kernel_regularizer=l2(0.01), bias_regularizer=l2(0.01)))\n",
        "    model.add(Dropout(0.5))\n",
        "\n",
        "    model.add(Dense(units = nn_params['output_neurons'], activation = nn_params['output_activation']))\n",
        "\n",
        "    # initiate RMSprop optimizer\n",
        "    opt = keras.optimizers.legacy.RMSprop(learning_rate=1e-5, decay=1e-6)\n",
        "\n",
        "    # Let's train the model using RMSprop\n",
        "    model.compile(loss=nn_params['loss'],\n",
        "                  optimizer=opt,\n",
        "                  metrics=['accuracy'])\n",
        "    return model\n",
        "\n",
        "  def TransferClassifier(name, nn_params, trainable = False):\n",
        "    expert_dict = {'VGG16': VGG16,\n",
        "                   'VGG19': VGG19,\n",
        "                   'ResNet50':ResNet50,\n",
        "                   'DenseNet121':DenseNet121}\n",
        "\n",
        "    expert_conv = expert_dict[name](weights = 'imagenet',\n",
        "                                              include_top = False,\n",
        "                                              input_shape = nn_params['input_shape'])\n",
        "    for layer in expert_conv.layers:\n",
        "      layer.trainable = trainable\n",
        "\n",
        "    expert_model = Sequential()\n",
        "    expert_model.add(expert_conv)\n",
        "    expert_model.add(GlobalAveragePooling2D())\n",
        "\n",
        "    expert_model.add(Dense(128, activation = 'relu'))\n",
        "    # expert_model.add(Dropout(0.3))\n",
        "\n",
        "    expert_model.add(Dense(64, activation = 'relu'))\n",
        "    # expert_model.add(Dropout(0.3))\n",
        "\n",
        "    expert_model.add(Dense(nn_params['output_neurons'], activation = nn_params['output_activation']))\n",
        "\n",
        "    expert_model.compile(loss = nn_params['loss'],\n",
        "                  optimizer = keras.optimizers.SGD(learning_rate=1e-4, momentum=0.9),\n",
        "                  metrics=['accuracy'])\n",
        "\n",
        "    return expert_model\n",
        "\n",
        "### defining project variables\n",
        "# file variables\n",
        "metadata_url         = \"https://storage.googleapis.com/inspirit-ai-data-bucket-1/Data/AI%20Scholars/Sessions%206%20-%2010%20(Projects)/Project%20-%20(Healthcare%20A)%20Pneumonia/metadata.csv\"\n",
        "image_data_url       = 'https://storage.googleapis.com/inspirit-ai-data-bucket-1/Data/AI%20Scholars/Sessions%206%20-%2010%20(Projects)/Project%20-%20(Healthcare%20A)%20Pneumonia/image_data.npy'\n",
        "image_data_path      = './image_data.npy'\n",
        "metadata_path        = './metadata.csv'\n",
        "image_shape          = (64, 64, 3)\n",
        "\n",
        "# neural net parameters\n",
        "nn_params = {}\n",
        "nn_params['input_shape']       = image_shape\n",
        "nn_params['output_neurons']    = 1\n",
        "nn_params['loss']              = 'binary_crossentropy'\n",
        "nn_params['output_activation'] = 'sigmoid'\n",
        "\n",
        "###\n",
        "!wget -q --show-progress \"https://storage.googleapis.com/inspirit-ai-data-bucket-1/Data/AI%20Scholars/Sessions%206%20-%2010%20(Projects)/Project%20-%20(Healthcare%20A)%20Pneumonia/metadata.csv\"\n",
        "!wget -q --show-progress \"https://storage.googleapis.com/inspirit-ai-data-bucket-1/Data/AI%20Scholars/Sessions%206%20-%2010%20(Projects)/Project%20-%20(Healthcare%20A)%20Pneumonia/image_data.npy\"\n",
        "\n",
        "### pre-loading all data of interest\n",
        "_all_data = np.load('image_data.npy')\n",
        "_metadata = pkg.get_metadata(metadata_path, ['train','test','field'])\n",
        "\n",
        "### preparing definitions\n",
        "# downloading and loading data\n",
        "get_data_split = pkg.get_data_split\n",
        "get_metadata    = lambda :                 pkg.get_metadata(metadata_path, ['train','test'])\n",
        "get_train_data  = lambda flatten = False : pkg.get_train_data(flatten = flatten, all_data = _all_data, metadata = _metadata, image_shape = image_shape)\n",
        "get_test_data   = lambda flatten = False : pkg.get_test_data(flatten = flatten, all_data = _all_data, metadata = _metadata, image_shape = image_shape)\n",
        "\n",
        "# plotting\n",
        "plot_one_image = lambda data, labels = [], index = None: helpers.plot_one_image(data = data, labels = labels, index = index, image_shape = image_shape);\n",
        "plot_acc       = lambda history: helpers.plot_acc(history)\n",
        "\n",
        "# models with input parameters\n",
        "DenseClassifier     = lambda hidden_layer_sizes: models.DenseClassifier(hidden_layer_sizes = hidden_layer_sizes, nn_params = nn_params);\n",
        "CNNClassifier       = lambda num_hidden_layers: models.CNNClassifier(num_hidden_layers, nn_params = nn_params);\n",
        "TransferClassifier  = lambda name: models.TransferClassifier(name = name, nn_params = nn_params);\n",
        "\n",
        "monitor = ModelCheckpoint('./model.h5', monitor='val_accuracy', verbose=0, save_best_only=True, save_weights_only=False, mode='auto', save_freq='epoch')"
      ],
      "execution_count": 25,
      "outputs": [
        {
          "output_type": "stream",
          "name": "stdout",
          "text": [
            "metadata.csv.1      100%[===================>]  39.56K  --.-KB/s    in 0s      \n",
            "image_data.npy.1    100%[===================>] 131.25M  22.8MB/s    in 6.6s    \n"
          ]
        }
      ]
    },
    {
      "cell_type": "markdown",
      "metadata": {
        "id": "SYqvCKWpKfRM"
      },
      "source": [
        "### What are neural networks?"
      ]
    },
    {
      "cell_type": "markdown",
      "metadata": {
        "id": "qA1Rc_u3KoJT"
      },
      "source": [
        "Just as we went over last week, neural networks look something like this:\n",
        "![A 2 layer neural network](https://cdn-images-1.medium.com/max/1600/1*DW0Ccmj1hZ0OvSXi7Kz5MQ.jpeg)\n"
      ]
    },
    {
      "cell_type": "markdown",
      "metadata": {
        "id": "3Q9S6SDcM8N9"
      },
      "source": [
        "Each orange and blue node is a neuron. The network itself is composed of a bunch of neurons that talk to each other and eventually give us a prediction. Let's get a bit more concrete with this..."
      ]
    },
    {
      "cell_type": "markdown",
      "metadata": {
        "id": "E--8mjToZYBp"
      },
      "source": [
        "To build neural networks in Python, we use the packages known as `tensorflow` and `keras`. Let's learn how to build and use these networks!"
      ]
    },
    {
      "cell_type": "code",
      "metadata": {
        "id": "cqFAnQCxsgRm"
      },
      "source": [
        "# grab tools from our tensorflow and keras toolboxes!\n",
        "import tensorflow.keras as keras\n",
        "from keras.models import Sequential\n",
        "from keras.layers import Activation, Dropout, Flatten, Dense, BatchNormalization\n",
        "from keras import optimizers"
      ],
      "execution_count": 26,
      "outputs": []
    },
    {
      "cell_type": "markdown",
      "metadata": {
        "id": "fq4G0hDwZKnM"
      },
      "source": [
        "## Exercise (Coding): A 2-Layer Model"
      ]
    },
    {
      "cell_type": "markdown",
      "metadata": {
        "id": "Bj-Pt3wGCXRu"
      },
      "source": [
        "\n",
        "We're going to build this model:\n",
        "\n",
        "![](http://cs231n.github.io/assets/nn1/neural_net.jpeg)"
      ]
    },
    {
      "cell_type": "markdown",
      "metadata": {
        "id": "H-6WGeedvTCS"
      },
      "source": [
        "This network can be described as:\n",
        "* **Input Layer**: 3 neurons\n",
        "* **Layer 1 (Hidden)**: 4 neurons with the `'relu'` activation function\n",
        "* **Layer 2 (Output)**: 2 neurons with the `'softmax'` activation function\n",
        "\n",
        "We're going to set up a **Sequential** model by adding on a sequence of layers. We will also have **Dense** layers, meaning each neuron of the previous layer connects to each neuron of this layer.\n",
        "\n",
        "We'll compile our model to make it ready to use! We'll use:\n",
        "- `loss = 'categorical_crossentropy'` (how to measure the model's performance while it trains)\n",
        "- `optimizer = 'adam'` (an algorithm for adjusting the weights)\n",
        "- `metric = 'accuracy'` (how to measure the model's performance at the end)\n",
        "\n",
        "Try it out below!\"\n",
        "\n",
        "The information about the `input_shape` parameter has been added to clarify the input data's expected shape for the first layer. This parameter plays a crucial role in defining the model's architecture and ensuring that the subsequent layers receive data with the correct dimensions.\n",
        "\n",
        "*Hint: Look back to your CNN Notebook to check the syntax for this code!*"
      ]
    },
    {
      "cell_type": "code",
      "metadata": {
        "id": "-zgA-wPfvCyK"
      },
      "source": [
        "### YOUR CODE HERE:\n",
        "model_1_answer = Sequential()\n",
        "model_1_answer.add(InputLayer(input_shape=(3,)))\n",
        "model_1_answer.add(Dense(4, activation = 'relu'))\n",
        "model_1_answer.add(Dense(2, activation = 'softmax'))\n",
        "model_1_answer.compile(loss='categorical_crossentropy',\n",
        "                       optimizer = 'adam',\n",
        "                       metrics = ['accuracy'])\n",
        "\n",
        "model_1 = model_1_answer\n",
        "### END CODE"
      ],
      "execution_count": 27,
      "outputs": []
    },
    {
      "cell_type": "code",
      "metadata": {
        "id": "uK_lyjxGpwv3",
        "colab": {
          "base_uri": "https://localhost:8080/",
          "height": 105
        },
        "outputId": "1dcc1f16-9ca5-4684-f8ab-833c606dcd2f"
      },
      "source": [
        "#@title Double-click here if you want to read more detail!\n",
        "\"\"\"\n",
        "Let's walk though what each of these lines of code means!\n",
        "\n",
        "**1. Specify model**\n",
        "\n",
        "```\n",
        "model = Sequential()\n",
        "```\n",
        "In this line of code, we build our network where the information flows from LEFT to RIGHT through the network in ONE DIRECTION as opposed to multiple directions. Neurons on the right never pass informations to neurons on the left of it.\n",
        "\n",
        "\n",
        "**2. Add layers to the network**\n",
        "```\n",
        "model.add(Dense(4,input_shape = (3,), activation = 'softmax'))\n",
        "```\n",
        "In this code, we `add` a `layer` of neurons to our network.\n",
        "\n",
        "This layers consists of 4 neurons. Each neuron is DENSE and connects to all of the previous layer's inputs and all of the subsequent layers outputs. We specify that there are 3 inputs here.\n",
        "\n",
        "We also specify what kind of output the neuron will give. If you want the neuron to output a number between 0 and 1 (like a probability!) you would use 'softmax' or 'softmax'. If you want the neuron to output any number, you can use 'linear'! You'll also often see 'relu', which is when a neuron will only output positive numbers.\n",
        "\n",
        "```\n",
        "model.add(Dense(1, activation = 'linear'))\n",
        "```\n",
        "This code adds ANOTHER layer to the network that has 1 neuron. This one neuron is used to predict a continuous value!\n",
        "\n",
        "**3. Turn the model on by compiling it**\n",
        "\n",
        "After having built the network, we want to train and use it, so we have to 'turn it on' and 'compile' it. To turn it on, we have to specify at the very least, a loss, an optimizer, and some ways of evaluating the model (metrics). Don't worry too much about what this means! Just know that this is necessary.\n",
        "\n",
        "```\n",
        "model.compile(loss='mean_squared_error',\n",
        "optimizer = 'adam',\n",
        "metrics = ['mean_squared_error'])\n",
        "  ```\n",
        "\"\"\""
      ],
      "execution_count": 28,
      "outputs": [
        {
          "output_type": "execute_result",
          "data": {
            "text/plain": [
              "\"\\nLet's walk though what each of these lines of code means!\\n\\n**1. Specify model**\\n\\n```\\nmodel = Sequential()\\n```\\nIn this line of code, we build our network where the information flows from LEFT to RIGHT through the network in ONE DIRECTION as opposed to multiple directions. Neurons on the right never pass informations to neurons on the left of it.\\n\\n\\n**2. Add layers to the network**\\n```\\nmodel.add(Dense(4,input_shape = (3,), activation = 'softmax'))\\n```\\nIn this code, we `add` a `layer` of neurons to our network.\\n\\nThis layers consists of 4 neurons. Each neuron is DENSE and connects to all of the previous layer's inputs and all of the subsequent layers outputs. We specify that there are 3 inputs here.\\n\\nWe also specify what kind of output the neuron will give. If you want the neuron to output a number between 0 and 1 (like a probability!) you would use 'softmax' or 'softmax'. If you want the neuron to output any number, you can use 'linear'! You'll also often see 'relu', which is when a neuron will only output positive numbers.\\n\\n```\\nmodel.add(Dense(1, activation = 'linear'))\\n```\\nThis code adds ANOTHER layer to the network that has 1 neuron. This one neuron is used to predict a continuous value!\\n\\n**3. Turn the model on by compiling it**\\n\\nAfter having built the network, we want to train and use it, so we have to 'turn it on' and 'compile' it. To turn it on, we have to specify at the very least, a loss, an optimizer, and some ways of evaluating the model (metrics). Don't worry too much about what this means! Just know that this is necessary.\\n\\n```\\nmodel.compile(loss='mean_squared_error',\\noptimizer = 'adam',\\nmetrics = ['mean_squared_error'])\\n  ```\\n\""
            ],
            "application/vnd.google.colaboratory.intrinsic+json": {
              "type": "string"
            }
          },
          "metadata": {},
          "execution_count": 28
        }
      ]
    },
    {
      "cell_type": "code",
      "metadata": {
        "id": "IH2UGOK4vuZ4",
        "colab": {
          "base_uri": "https://localhost:8080/"
        },
        "outputId": "b0fa4035-e43d-4716-a348-3909cc9b6efe"
      },
      "source": [
        "#@title Run this to test if your model is right!\n",
        "model_1_answer = Sequential()\n",
        "model_1_answer.add(InputLayer(input_shape=(3,)))\n",
        "model_1_answer.add(Dense(4, activation = 'relu'))\n",
        "model_1_answer.add(Dense(2, activation = 'softmax'))\n",
        "model_1_answer.compile(loss='categorical_crossentropy',\n",
        "optimizer = 'adam',\n",
        "metrics = ['accuracy'])\n",
        "\n",
        "model_1_config = model_1.get_config()\n",
        "\n",
        "del model_1_config[\"name\"]\n",
        "for layer in model_1_config[\"layers\"]:\n",
        "  del layer[\"config\"][\"name\"]\n",
        "\n",
        "model_1_answer_config = model_1_answer.get_config()\n",
        "\n",
        "del model_1_answer_config[\"name\"]\n",
        "for layer in model_1_answer_config[\"layers\"]:\n",
        "  del layer[\"config\"][\"name\"]\n",
        "\n",
        "if model_1_answer_config == model_1_config:\n",
        "  print('Good job! Your model worked')\n",
        "else:\n",
        "  print('Please check your code again!')"
      ],
      "execution_count": 29,
      "outputs": [
        {
          "output_type": "stream",
          "name": "stdout",
          "text": [
            "Good job! Your model worked\n"
          ]
        }
      ]
    },
    {
      "cell_type": "markdown",
      "metadata": {
        "id": "GNBg8obslWlo"
      },
      "source": [
        "This is a toy example, so we won't train our model with real data - but we can feed in some fake inputs to see what happens! **How many inputs do we need?**\n"
      ]
    },
    {
      "cell_type": "code",
      "metadata": {
        "id": "vE_C03CplcyY"
      },
      "source": [
        "input_data = [[3,4,3]] #Fill in inputs here! How many?"
      ],
      "execution_count": 30,
      "outputs": []
    },
    {
      "cell_type": "markdown",
      "metadata": {
        "id": "IJMbtRllotiY"
      },
      "source": [
        "Let's try it out! What does **predict** do? How do you interpret the outputs?"
      ]
    },
    {
      "cell_type": "code",
      "metadata": {
        "id": "JIiU4_ngotGh",
        "colab": {
          "base_uri": "https://localhost:8080/"
        },
        "outputId": "af00d9e7-c347-491a-c4ff-719ee65a2884"
      },
      "source": [
        "print(model_1.predict(input_data))\n",
        "print((model_1.predict(input_data) > 0.5).astype(\"int32\"))"
      ],
      "execution_count": 31,
      "outputs": [
        {
          "output_type": "stream",
          "name": "stdout",
          "text": [
            "1/1 [==============================] - 0s 57ms/step\n",
            "[[0.986864  0.0131361]]\n",
            "1/1 [==============================] - 0s 31ms/step\n",
            "[[1 0]]\n"
          ]
        }
      ]
    },
    {
      "cell_type": "markdown",
      "metadata": {
        "id": "ypsWJtgSl_OJ"
      },
      "source": [
        "**How many outputs** are there? How would you interpret them?"
      ]
    },
    {
      "cell_type": "markdown",
      "metadata": {
        "id": "g9CmrRkgT5ZS"
      },
      "source": [
        "# Milestone 2. Exploring Neural Networks\n",
        "\n",
        "Now, let's apply neural networks to our medical imaging problem!"
      ]
    },
    {
      "cell_type": "markdown",
      "metadata": {
        "id": "PD3Z0QamJF68"
      },
      "source": [
        "\n",
        "In our problem, we are given `images` of shape `(64,64,3)`, each assigned a label PNEUMONIA or HEALTHY. We want to identify the key things that we need to design our network.\n",
        "\n",
        "In your group, discuss:\n",
        "\n",
        "* What are our inputs?\n",
        "* What is/are our outputs?\n",
        "\n",
        "How could this look in a neural network diagram?\n",
        "\n",
        "**Brainstorm and sketch out a neural network that would work for this problem, and share with the group!**\n",
        "\n",
        "**Optional Exercise:** Following the setup from Notebook 1, create and test a neural network using Scikit-learn for this problem. [MLPClassifier](https://scikit-learn.org/stable/modules/generated/sklearn.neural_network.MLPClassifier.html) gives you a simple neural network!"
      ]
    },
    {
      "cell_type": "code",
      "metadata": {
        "id": "s2fStUprqjmY",
        "colab": {
          "base_uri": "https://localhost:8080/"
        },
        "outputId": "5cf49462-a31c-4e32-c15d-fb16b9ce631d"
      },
      "source": [
        "from sklearn.neural_network import MLPClassifier\n",
        "\n",
        "X_train, y_train = get_train_data(flatten = True)\n",
        "X_test, y_test = get_test_data(flatten = True)\n",
        "clf = MLPClassifier(hidden_layer_sizes=(5))\n",
        "clf.fit(X_train,y_train)\n",
        "y_pred = clf.predict(X_test)\n",
        "score = accuracy_score(y_test, y_pred)\n",
        "print(score)"
      ],
      "execution_count": 32,
      "outputs": [
        {
          "output_type": "stream",
          "name": "stdout",
          "text": [
            "0.5\n"
          ]
        }
      ]
    },
    {
      "cell_type": "markdown",
      "metadata": {
        "id": "S0xP2sDhOf4M"
      },
      "source": [
        "## Activity 2a. Challenging pneumonia with our models"
      ]
    },
    {
      "cell_type": "markdown",
      "metadata": {
        "id": "47bngTjCT_pM"
      },
      "source": [
        "Now, let's try out 'Convolutional Neural Networks'! Convolutional neural networks are networks that process images much like our visual system does. We'll use a Keras wrapper that abstracts away the details - talk to your instructor if you're interested in exploring CNN with more details!\n",
        "\n",
        "First, let's get our data. **Why do we not use flattened data for CNNs?**\n",
        "\n"
      ]
    },
    {
      "cell_type": "code",
      "metadata": {
        "id": "YeA8gWV6sqai"
      },
      "source": [
        "X_train, y_train = get_train_data()\n",
        "X_test, y_test = get_test_data()"
      ],
      "execution_count": 33,
      "outputs": []
    },
    {
      "cell_type": "markdown",
      "metadata": {
        "id": "01ayM3u3sXA-"
      },
      "source": [
        "### Creating Models\n",
        "Now, let's create a model! In fact, let's create two:\n",
        "\n",
        "\n",
        "For a \"vanilla\" neural network:\n",
        "\n",
        "```\n",
        "dense = DenseClassifier(hidden_layer_sizes = (64,32))\n",
        "```\n",
        "* hidden_layer_sizes: the number of neurons in each hidden layer\n",
        "* epochs: the number of times that our network trains on all of the training data\n",
        "\n",
        "\n",
        "For a convolutional neural network:\n",
        "```\n",
        "cnn = CNNClassifier(num_hidden_layers = 1)\n",
        "```\n",
        "* num_hidden_layers: the number of hidden layers\n",
        "\n",
        "**Create your models below!** Use any hidden layer sizes you like."
      ]
    },
    {
      "cell_type": "code",
      "metadata": {
        "id": "YTb16LvwtGNW"
      },
      "source": [
        "#YOUR CODE HERE\n",
        "dense = DenseClassifier(hidden_layer_sizes = (64,32))\n",
        "cnn = CNNClassifier(num_hidden_layers = 3)"
      ],
      "execution_count": 34,
      "outputs": []
    },
    {
      "cell_type": "markdown",
      "metadata": {
        "id": "pIFymjNnsNPC"
      },
      "source": [
        "### Fitting and Scoring\n",
        "Now, let's fit  our models!\n",
        "\n",
        "There are default parameters to `.fit` you can call:\n",
        "\n",
        "```\n",
        "model_history = model.fit(X_train, y_train, epochs = 100, validation_data = (X_test, y_test), shuffle = True, callbacks = [monitor])\n",
        "```\n",
        "\n",
        "The `shuffle` parameter is important for shuffling the training data before each epoch. The `monitor` callback is used to get a view on internal states and statistics of the model during training. Please don't change these parameters!\n",
        "\n",
        "**Fit your models below!**"
      ]
    },
    {
      "cell_type": "code",
      "metadata": {
        "id": "oUgtK9n6t2CU",
        "colab": {
          "base_uri": "https://localhost:8080/"
        },
        "outputId": "619b1639-8551-4b9e-fa5c-104cda1ba081"
      },
      "source": [
        "#YOUR CODE HERE\n",
        "dense_history = dense.fit(X_train, y_train, epochs = 150, validation_data = (X_test, y_test), shuffle = True, callbacks = [monitor])\n",
        "cnn_history = cnn.fit(X_train, y_train, epochs = 150, validation_data = (X_test, y_test), shuffle = True, callbacks = [monitor])"
      ],
      "execution_count": 35,
      "outputs": [
        {
          "output_type": "stream",
          "name": "stdout",
          "text": [
            "Epoch 1/150\n",
            "63/63 [==============================] - 2s 11ms/step - loss: 0.7683 - accuracy: 0.5140 - val_loss: 0.6894 - val_accuracy: 0.6000\n",
            "Epoch 2/150\n",
            "63/63 [==============================] - 0s 7ms/step - loss: 0.7008 - accuracy: 0.5325 - val_loss: 0.6791 - val_accuracy: 0.5075\n",
            "Epoch 3/150\n",
            "63/63 [==============================] - 0s 7ms/step - loss: 0.7021 - accuracy: 0.5360 - val_loss: 0.6709 - val_accuracy: 0.6300\n",
            "Epoch 4/150\n",
            "63/63 [==============================] - 0s 5ms/step - loss: 0.6752 - accuracy: 0.5665 - val_loss: 0.6660 - val_accuracy: 0.7100\n",
            "Epoch 5/150\n",
            "63/63 [==============================] - 0s 5ms/step - loss: 0.6790 - accuracy: 0.5615 - val_loss: 0.6635 - val_accuracy: 0.7100\n",
            "Epoch 6/150\n",
            "63/63 [==============================] - 0s 5ms/step - loss: 0.6689 - accuracy: 0.5870 - val_loss: 0.6514 - val_accuracy: 0.7575\n",
            "Epoch 7/150\n",
            "63/63 [==============================] - 0s 5ms/step - loss: 0.6522 - accuracy: 0.6110 - val_loss: 0.6293 - val_accuracy: 0.8100\n",
            "Epoch 8/150\n",
            "63/63 [==============================] - 0s 5ms/step - loss: 0.6400 - accuracy: 0.6310 - val_loss: 0.6124 - val_accuracy: 0.7850\n",
            "Epoch 9/150\n",
            "63/63 [==============================] - 0s 5ms/step - loss: 0.6395 - accuracy: 0.6235 - val_loss: 0.6218 - val_accuracy: 0.8200\n",
            "Epoch 10/150\n",
            "63/63 [==============================] - 0s 6ms/step - loss: 0.6273 - accuracy: 0.6600 - val_loss: 0.5805 - val_accuracy: 0.8225\n",
            "Epoch 11/150\n",
            "63/63 [==============================] - 0s 5ms/step - loss: 0.5944 - accuracy: 0.6785 - val_loss: 0.5823 - val_accuracy: 0.8175\n",
            "Epoch 12/150\n",
            "63/63 [==============================] - 0s 5ms/step - loss: 0.5818 - accuracy: 0.6795 - val_loss: 0.5651 - val_accuracy: 0.8275\n",
            "Epoch 13/150\n",
            "63/63 [==============================] - 0s 5ms/step - loss: 0.5640 - accuracy: 0.6990 - val_loss: 0.5327 - val_accuracy: 0.8200\n",
            "Epoch 14/150\n",
            "63/63 [==============================] - 0s 5ms/step - loss: 0.5712 - accuracy: 0.6960 - val_loss: 0.5659 - val_accuracy: 0.7250\n",
            "Epoch 15/150\n",
            "63/63 [==============================] - 0s 5ms/step - loss: 0.5412 - accuracy: 0.7330 - val_loss: 0.4914 - val_accuracy: 0.8350\n",
            "Epoch 16/150\n",
            "63/63 [==============================] - 0s 5ms/step - loss: 0.5432 - accuracy: 0.7280 - val_loss: 0.5114 - val_accuracy: 0.8325\n",
            "Epoch 17/150\n",
            "63/63 [==============================] - 0s 5ms/step - loss: 0.5054 - accuracy: 0.7525 - val_loss: 0.4764 - val_accuracy: 0.8250\n",
            "Epoch 18/150\n",
            "63/63 [==============================] - 0s 5ms/step - loss: 0.5154 - accuracy: 0.7470 - val_loss: 0.5286 - val_accuracy: 0.7425\n",
            "Epoch 19/150\n",
            "63/63 [==============================] - 0s 5ms/step - loss: 0.4986 - accuracy: 0.7625 - val_loss: 0.4749 - val_accuracy: 0.8150\n",
            "Epoch 20/150\n",
            "63/63 [==============================] - 0s 5ms/step - loss: 0.4736 - accuracy: 0.7770 - val_loss: 0.4562 - val_accuracy: 0.8200\n",
            "Epoch 21/150\n",
            "63/63 [==============================] - 0s 5ms/step - loss: 0.4969 - accuracy: 0.7565 - val_loss: 0.4571 - val_accuracy: 0.8375\n",
            "Epoch 22/150\n",
            "63/63 [==============================] - 0s 5ms/step - loss: 0.4767 - accuracy: 0.7800 - val_loss: 0.4511 - val_accuracy: 0.8175\n",
            "Epoch 23/150\n",
            "63/63 [==============================] - 0s 5ms/step - loss: 0.4576 - accuracy: 0.8030 - val_loss: 0.4699 - val_accuracy: 0.7675\n",
            "Epoch 24/150\n",
            "63/63 [==============================] - 0s 5ms/step - loss: 0.4338 - accuracy: 0.8165 - val_loss: 0.4666 - val_accuracy: 0.7700\n",
            "Epoch 25/150\n",
            "63/63 [==============================] - 0s 5ms/step - loss: 0.4343 - accuracy: 0.8190 - val_loss: 0.4334 - val_accuracy: 0.8250\n",
            "Epoch 26/150\n",
            "63/63 [==============================] - 0s 5ms/step - loss: 0.4329 - accuracy: 0.7980 - val_loss: 0.4387 - val_accuracy: 0.8075\n",
            "Epoch 27/150\n",
            "63/63 [==============================] - 0s 5ms/step - loss: 0.4266 - accuracy: 0.8055 - val_loss: 0.4168 - val_accuracy: 0.8300\n",
            "Epoch 28/150\n",
            "63/63 [==============================] - 0s 5ms/step - loss: 0.4083 - accuracy: 0.8220 - val_loss: 0.4240 - val_accuracy: 0.8175\n",
            "Epoch 29/150\n",
            "63/63 [==============================] - 0s 5ms/step - loss: 0.4003 - accuracy: 0.8305 - val_loss: 0.3882 - val_accuracy: 0.8400\n",
            "Epoch 30/150\n",
            "63/63 [==============================] - 0s 5ms/step - loss: 0.4041 - accuracy: 0.8280 - val_loss: 0.4282 - val_accuracy: 0.8000\n",
            "Epoch 31/150\n",
            "63/63 [==============================] - 0s 5ms/step - loss: 0.4000 - accuracy: 0.8335 - val_loss: 0.4153 - val_accuracy: 0.8025\n",
            "Epoch 32/150\n",
            "63/63 [==============================] - 0s 5ms/step - loss: 0.3912 - accuracy: 0.8305 - val_loss: 0.4172 - val_accuracy: 0.7950\n",
            "Epoch 33/150\n",
            "63/63 [==============================] - 0s 5ms/step - loss: 0.3813 - accuracy: 0.8220 - val_loss: 0.4207 - val_accuracy: 0.7975\n",
            "Epoch 34/150\n",
            "63/63 [==============================] - 0s 7ms/step - loss: 0.3895 - accuracy: 0.8340 - val_loss: 0.4426 - val_accuracy: 0.7675\n",
            "Epoch 35/150\n",
            "63/63 [==============================] - 0s 7ms/step - loss: 0.3730 - accuracy: 0.8460 - val_loss: 0.4228 - val_accuracy: 0.7925\n",
            "Epoch 36/150\n",
            "63/63 [==============================] - 0s 7ms/step - loss: 0.3804 - accuracy: 0.8400 - val_loss: 0.4050 - val_accuracy: 0.8100\n",
            "Epoch 37/150\n",
            "63/63 [==============================] - 0s 7ms/step - loss: 0.3845 - accuracy: 0.8360 - val_loss: 0.4170 - val_accuracy: 0.7950\n",
            "Epoch 38/150\n",
            "63/63 [==============================] - 0s 7ms/step - loss: 0.3605 - accuracy: 0.8525 - val_loss: 0.3998 - val_accuracy: 0.8025\n",
            "Epoch 39/150\n",
            "63/63 [==============================] - 0s 7ms/step - loss: 0.3575 - accuracy: 0.8625 - val_loss: 0.4060 - val_accuracy: 0.8000\n",
            "Epoch 40/150\n",
            "63/63 [==============================] - 0s 6ms/step - loss: 0.3548 - accuracy: 0.8505 - val_loss: 0.3979 - val_accuracy: 0.8100\n",
            "Epoch 41/150\n",
            "63/63 [==============================] - 0s 5ms/step - loss: 0.3598 - accuracy: 0.8555 - val_loss: 0.4051 - val_accuracy: 0.8025\n",
            "Epoch 42/150\n",
            "63/63 [==============================] - 0s 5ms/step - loss: 0.3611 - accuracy: 0.8495 - val_loss: 0.3852 - val_accuracy: 0.8175\n",
            "Epoch 43/150\n",
            "63/63 [==============================] - 0s 5ms/step - loss: 0.3360 - accuracy: 0.8635 - val_loss: 0.3825 - val_accuracy: 0.8225\n",
            "Epoch 44/150\n",
            "63/63 [==============================] - 0s 5ms/step - loss: 0.3496 - accuracy: 0.8510 - val_loss: 0.4136 - val_accuracy: 0.7950\n",
            "Epoch 45/150\n",
            "63/63 [==============================] - 0s 5ms/step - loss: 0.3404 - accuracy: 0.8540 - val_loss: 0.3913 - val_accuracy: 0.8050\n",
            "Epoch 46/150\n",
            "63/63 [==============================] - 0s 5ms/step - loss: 0.3334 - accuracy: 0.8600 - val_loss: 0.4223 - val_accuracy: 0.7700\n",
            "Epoch 47/150\n",
            "63/63 [==============================] - 0s 4ms/step - loss: 0.3291 - accuracy: 0.8610 - val_loss: 0.5342 - val_accuracy: 0.7175\n",
            "Epoch 48/150\n",
            "63/63 [==============================] - 0s 5ms/step - loss: 0.3268 - accuracy: 0.8615 - val_loss: 0.4581 - val_accuracy: 0.7375\n",
            "Epoch 49/150\n",
            "63/63 [==============================] - 0s 5ms/step - loss: 0.3195 - accuracy: 0.8785 - val_loss: 0.3989 - val_accuracy: 0.8100\n",
            "Epoch 50/150\n",
            "63/63 [==============================] - 0s 5ms/step - loss: 0.3313 - accuracy: 0.8675 - val_loss: 0.4400 - val_accuracy: 0.7500\n",
            "Epoch 51/150\n",
            "63/63 [==============================] - 0s 5ms/step - loss: 0.3131 - accuracy: 0.8710 - val_loss: 0.4031 - val_accuracy: 0.7925\n",
            "Epoch 52/150\n",
            "63/63 [==============================] - 0s 5ms/step - loss: 0.3371 - accuracy: 0.8725 - val_loss: 0.3971 - val_accuracy: 0.8025\n",
            "Epoch 53/150\n",
            "63/63 [==============================] - 0s 5ms/step - loss: 0.3178 - accuracy: 0.8755 - val_loss: 0.4406 - val_accuracy: 0.7500\n",
            "Epoch 54/150\n",
            "63/63 [==============================] - 0s 5ms/step - loss: 0.3296 - accuracy: 0.8665 - val_loss: 0.4847 - val_accuracy: 0.7325\n",
            "Epoch 55/150\n",
            "63/63 [==============================] - 0s 5ms/step - loss: 0.3240 - accuracy: 0.8695 - val_loss: 0.4262 - val_accuracy: 0.7600\n",
            "Epoch 56/150\n",
            "63/63 [==============================] - 0s 5ms/step - loss: 0.3112 - accuracy: 0.8835 - val_loss: 0.4391 - val_accuracy: 0.7475\n",
            "Epoch 57/150\n",
            "63/63 [==============================] - 0s 5ms/step - loss: 0.3057 - accuracy: 0.8825 - val_loss: 0.5183 - val_accuracy: 0.7300\n",
            "Epoch 58/150\n",
            "63/63 [==============================] - 0s 5ms/step - loss: 0.3001 - accuracy: 0.8840 - val_loss: 0.4437 - val_accuracy: 0.7500\n",
            "Epoch 59/150\n",
            "63/63 [==============================] - 0s 5ms/step - loss: 0.2991 - accuracy: 0.8855 - val_loss: 0.4292 - val_accuracy: 0.7575\n",
            "Epoch 60/150\n",
            "63/63 [==============================] - 0s 5ms/step - loss: 0.2952 - accuracy: 0.8875 - val_loss: 0.4839 - val_accuracy: 0.7400\n",
            "Epoch 61/150\n",
            "63/63 [==============================] - 0s 5ms/step - loss: 0.2814 - accuracy: 0.8900 - val_loss: 0.4870 - val_accuracy: 0.7450\n",
            "Epoch 62/150\n",
            "63/63 [==============================] - 0s 5ms/step - loss: 0.3066 - accuracy: 0.8855 - val_loss: 0.4379 - val_accuracy: 0.7425\n",
            "Epoch 63/150\n",
            "63/63 [==============================] - 0s 5ms/step - loss: 0.2888 - accuracy: 0.8910 - val_loss: 0.4526 - val_accuracy: 0.7450\n",
            "Epoch 64/150\n",
            "63/63 [==============================] - 0s 5ms/step - loss: 0.3038 - accuracy: 0.8855 - val_loss: 0.4802 - val_accuracy: 0.7325\n",
            "Epoch 65/150\n",
            "63/63 [==============================] - 0s 5ms/step - loss: 0.2822 - accuracy: 0.8920 - val_loss: 0.4318 - val_accuracy: 0.7500\n",
            "Epoch 66/150\n",
            "63/63 [==============================] - 0s 5ms/step - loss: 0.2944 - accuracy: 0.8850 - val_loss: 0.4481 - val_accuracy: 0.7500\n",
            "Epoch 67/150\n",
            "63/63 [==============================] - 0s 5ms/step - loss: 0.2892 - accuracy: 0.8945 - val_loss: 0.4540 - val_accuracy: 0.7400\n",
            "Epoch 68/150\n",
            "63/63 [==============================] - 0s 5ms/step - loss: 0.2904 - accuracy: 0.8855 - val_loss: 0.4662 - val_accuracy: 0.7450\n",
            "Epoch 69/150\n",
            "63/63 [==============================] - 0s 5ms/step - loss: 0.2894 - accuracy: 0.8800 - val_loss: 0.4951 - val_accuracy: 0.7175\n",
            "Epoch 70/150\n",
            "63/63 [==============================] - 0s 5ms/step - loss: 0.2859 - accuracy: 0.8890 - val_loss: 0.4428 - val_accuracy: 0.7675\n",
            "Epoch 71/150\n",
            "63/63 [==============================] - 0s 6ms/step - loss: 0.2613 - accuracy: 0.9010 - val_loss: 0.4539 - val_accuracy: 0.7425\n",
            "Epoch 72/150\n",
            "63/63 [==============================] - 0s 6ms/step - loss: 0.2744 - accuracy: 0.8970 - val_loss: 0.4513 - val_accuracy: 0.7450\n",
            "Epoch 73/150\n",
            "63/63 [==============================] - 0s 6ms/step - loss: 0.2805 - accuracy: 0.8960 - val_loss: 0.4527 - val_accuracy: 0.7325\n",
            "Epoch 74/150\n",
            "63/63 [==============================] - 0s 7ms/step - loss: 0.2740 - accuracy: 0.8990 - val_loss: 0.4299 - val_accuracy: 0.7850\n",
            "Epoch 75/150\n",
            "63/63 [==============================] - 0s 7ms/step - loss: 0.2934 - accuracy: 0.8860 - val_loss: 0.4607 - val_accuracy: 0.7450\n",
            "Epoch 76/150\n",
            "63/63 [==============================] - 0s 7ms/step - loss: 0.2797 - accuracy: 0.8955 - val_loss: 0.4524 - val_accuracy: 0.7500\n",
            "Epoch 77/150\n",
            "63/63 [==============================] - 0s 6ms/step - loss: 0.2612 - accuracy: 0.9100 - val_loss: 0.4638 - val_accuracy: 0.7450\n",
            "Epoch 78/150\n",
            "63/63 [==============================] - 0s 5ms/step - loss: 0.2562 - accuracy: 0.9030 - val_loss: 0.4697 - val_accuracy: 0.7450\n",
            "Epoch 79/150\n",
            "63/63 [==============================] - 0s 5ms/step - loss: 0.3090 - accuracy: 0.8815 - val_loss: 0.4338 - val_accuracy: 0.7550\n",
            "Epoch 80/150\n",
            "63/63 [==============================] - 0s 5ms/step - loss: 0.2698 - accuracy: 0.9000 - val_loss: 0.5264 - val_accuracy: 0.7275\n",
            "Epoch 81/150\n",
            "63/63 [==============================] - 0s 5ms/step - loss: 0.2621 - accuracy: 0.8995 - val_loss: 0.5174 - val_accuracy: 0.7275\n",
            "Epoch 82/150\n",
            "63/63 [==============================] - 0s 5ms/step - loss: 0.2658 - accuracy: 0.8995 - val_loss: 0.5012 - val_accuracy: 0.7300\n",
            "Epoch 83/150\n",
            "63/63 [==============================] - 0s 5ms/step - loss: 0.2803 - accuracy: 0.9045 - val_loss: 0.5388 - val_accuracy: 0.7275\n",
            "Epoch 84/150\n",
            "63/63 [==============================] - 0s 5ms/step - loss: 0.2686 - accuracy: 0.9000 - val_loss: 0.5008 - val_accuracy: 0.7275\n",
            "Epoch 85/150\n",
            "63/63 [==============================] - 0s 5ms/step - loss: 0.2465 - accuracy: 0.9085 - val_loss: 0.4805 - val_accuracy: 0.7425\n",
            "Epoch 86/150\n",
            "63/63 [==============================] - 0s 5ms/step - loss: 0.2486 - accuracy: 0.9085 - val_loss: 0.5187 - val_accuracy: 0.7300\n",
            "Epoch 87/150\n",
            "63/63 [==============================] - 0s 5ms/step - loss: 0.2495 - accuracy: 0.9095 - val_loss: 0.4704 - val_accuracy: 0.7400\n",
            "Epoch 88/150\n",
            "63/63 [==============================] - 0s 5ms/step - loss: 0.2570 - accuracy: 0.9090 - val_loss: 0.4947 - val_accuracy: 0.7300\n",
            "Epoch 89/150\n",
            "63/63 [==============================] - 0s 5ms/step - loss: 0.2672 - accuracy: 0.9005 - val_loss: 0.4654 - val_accuracy: 0.7275\n",
            "Epoch 90/150\n",
            "63/63 [==============================] - 0s 5ms/step - loss: 0.2532 - accuracy: 0.9125 - val_loss: 0.5644 - val_accuracy: 0.7225\n",
            "Epoch 91/150\n",
            "63/63 [==============================] - 0s 5ms/step - loss: 0.2595 - accuracy: 0.9020 - val_loss: 0.5663 - val_accuracy: 0.7225\n",
            "Epoch 92/150\n",
            "63/63 [==============================] - 0s 4ms/step - loss: 0.2531 - accuracy: 0.9010 - val_loss: 0.4719 - val_accuracy: 0.7400\n",
            "Epoch 93/150\n",
            "63/63 [==============================] - 0s 6ms/step - loss: 0.2549 - accuracy: 0.9170 - val_loss: 0.4494 - val_accuracy: 0.7625\n",
            "Epoch 94/150\n",
            "63/63 [==============================] - 0s 6ms/step - loss: 0.2516 - accuracy: 0.9090 - val_loss: 0.5146 - val_accuracy: 0.7225\n",
            "Epoch 95/150\n",
            "63/63 [==============================] - 0s 5ms/step - loss: 0.2456 - accuracy: 0.9110 - val_loss: 0.4926 - val_accuracy: 0.7300\n",
            "Epoch 96/150\n",
            "63/63 [==============================] - 0s 5ms/step - loss: 0.2671 - accuracy: 0.9000 - val_loss: 0.4504 - val_accuracy: 0.7425\n",
            "Epoch 97/150\n",
            "63/63 [==============================] - 0s 5ms/step - loss: 0.2485 - accuracy: 0.9125 - val_loss: 0.5043 - val_accuracy: 0.7325\n",
            "Epoch 98/150\n",
            "63/63 [==============================] - 0s 4ms/step - loss: 0.2647 - accuracy: 0.9020 - val_loss: 0.5426 - val_accuracy: 0.7225\n",
            "Epoch 99/150\n",
            "63/63 [==============================] - 0s 6ms/step - loss: 0.2537 - accuracy: 0.9085 - val_loss: 0.5152 - val_accuracy: 0.7200\n",
            "Epoch 100/150\n",
            "63/63 [==============================] - 0s 5ms/step - loss: 0.2437 - accuracy: 0.9190 - val_loss: 0.4954 - val_accuracy: 0.7375\n",
            "Epoch 101/150\n",
            "63/63 [==============================] - 0s 5ms/step - loss: 0.2543 - accuracy: 0.9070 - val_loss: 0.4933 - val_accuracy: 0.7350\n",
            "Epoch 102/150\n",
            "63/63 [==============================] - 0s 5ms/step - loss: 0.2496 - accuracy: 0.9085 - val_loss: 0.4498 - val_accuracy: 0.7400\n",
            "Epoch 103/150\n",
            "63/63 [==============================] - 0s 5ms/step - loss: 0.2505 - accuracy: 0.9065 - val_loss: 0.4966 - val_accuracy: 0.7250\n",
            "Epoch 104/150\n",
            "63/63 [==============================] - 0s 5ms/step - loss: 0.2465 - accuracy: 0.9080 - val_loss: 0.5492 - val_accuracy: 0.7200\n",
            "Epoch 105/150\n",
            "63/63 [==============================] - 0s 5ms/step - loss: 0.2336 - accuracy: 0.9135 - val_loss: 0.5731 - val_accuracy: 0.7225\n",
            "Epoch 106/150\n",
            "63/63 [==============================] - 0s 5ms/step - loss: 0.2353 - accuracy: 0.9130 - val_loss: 0.6035 - val_accuracy: 0.7125\n",
            "Epoch 107/150\n",
            "63/63 [==============================] - 0s 5ms/step - loss: 0.2427 - accuracy: 0.9185 - val_loss: 0.5692 - val_accuracy: 0.7125\n",
            "Epoch 108/150\n",
            "63/63 [==============================] - 0s 7ms/step - loss: 0.2335 - accuracy: 0.9085 - val_loss: 0.5418 - val_accuracy: 0.7225\n",
            "Epoch 109/150\n",
            "63/63 [==============================] - 0s 7ms/step - loss: 0.2371 - accuracy: 0.9105 - val_loss: 0.5591 - val_accuracy: 0.7175\n",
            "Epoch 110/150\n",
            "63/63 [==============================] - 0s 7ms/step - loss: 0.2323 - accuracy: 0.9155 - val_loss: 0.5219 - val_accuracy: 0.7225\n",
            "Epoch 111/150\n",
            "63/63 [==============================] - 0s 8ms/step - loss: 0.2423 - accuracy: 0.9120 - val_loss: 0.5593 - val_accuracy: 0.7100\n",
            "Epoch 112/150\n",
            "63/63 [==============================] - 0s 7ms/step - loss: 0.2351 - accuracy: 0.9160 - val_loss: 0.5594 - val_accuracy: 0.7200\n",
            "Epoch 113/150\n",
            "63/63 [==============================] - 0s 6ms/step - loss: 0.2366 - accuracy: 0.9135 - val_loss: 0.5446 - val_accuracy: 0.7350\n",
            "Epoch 114/150\n",
            "63/63 [==============================] - 0s 5ms/step - loss: 0.2411 - accuracy: 0.9175 - val_loss: 0.5697 - val_accuracy: 0.7125\n",
            "Epoch 115/150\n",
            "63/63 [==============================] - 0s 5ms/step - loss: 0.2142 - accuracy: 0.9195 - val_loss: 0.6575 - val_accuracy: 0.7225\n",
            "Epoch 116/150\n",
            "63/63 [==============================] - 0s 5ms/step - loss: 0.2277 - accuracy: 0.9205 - val_loss: 0.5793 - val_accuracy: 0.7225\n",
            "Epoch 117/150\n",
            "63/63 [==============================] - 0s 5ms/step - loss: 0.2282 - accuracy: 0.9125 - val_loss: 0.6731 - val_accuracy: 0.7125\n",
            "Epoch 118/150\n",
            "63/63 [==============================] - 0s 5ms/step - loss: 0.2332 - accuracy: 0.9125 - val_loss: 0.5411 - val_accuracy: 0.7175\n",
            "Epoch 119/150\n",
            "63/63 [==============================] - 0s 5ms/step - loss: 0.2284 - accuracy: 0.9150 - val_loss: 0.5431 - val_accuracy: 0.7300\n",
            "Epoch 120/150\n",
            "63/63 [==============================] - 0s 5ms/step - loss: 0.2503 - accuracy: 0.9110 - val_loss: 0.5155 - val_accuracy: 0.7300\n",
            "Epoch 121/150\n",
            "63/63 [==============================] - 0s 5ms/step - loss: 0.2207 - accuracy: 0.9170 - val_loss: 0.5762 - val_accuracy: 0.7225\n",
            "Epoch 122/150\n",
            "63/63 [==============================] - 0s 5ms/step - loss: 0.2284 - accuracy: 0.9200 - val_loss: 0.6147 - val_accuracy: 0.7125\n",
            "Epoch 123/150\n",
            "63/63 [==============================] - 0s 5ms/step - loss: 0.2170 - accuracy: 0.9230 - val_loss: 0.5600 - val_accuracy: 0.7250\n",
            "Epoch 124/150\n",
            "63/63 [==============================] - 0s 5ms/step - loss: 0.2324 - accuracy: 0.9110 - val_loss: 0.5454 - val_accuracy: 0.7400\n",
            "Epoch 125/150\n",
            "63/63 [==============================] - 0s 5ms/step - loss: 0.2414 - accuracy: 0.9130 - val_loss: 0.5270 - val_accuracy: 0.7225\n",
            "Epoch 126/150\n",
            "63/63 [==============================] - 0s 5ms/step - loss: 0.2153 - accuracy: 0.9225 - val_loss: 0.5899 - val_accuracy: 0.7075\n",
            "Epoch 127/150\n",
            "63/63 [==============================] - 0s 5ms/step - loss: 0.2282 - accuracy: 0.9160 - val_loss: 0.4944 - val_accuracy: 0.7650\n",
            "Epoch 128/150\n",
            "63/63 [==============================] - 0s 5ms/step - loss: 0.2338 - accuracy: 0.9125 - val_loss: 0.5008 - val_accuracy: 0.7275\n",
            "Epoch 129/150\n",
            "63/63 [==============================] - 0s 5ms/step - loss: 0.2155 - accuracy: 0.9215 - val_loss: 0.6551 - val_accuracy: 0.7100\n",
            "Epoch 130/150\n",
            "63/63 [==============================] - 0s 6ms/step - loss: 0.2213 - accuracy: 0.9190 - val_loss: 0.7406 - val_accuracy: 0.7050\n",
            "Epoch 131/150\n",
            "63/63 [==============================] - 0s 5ms/step - loss: 0.2406 - accuracy: 0.9155 - val_loss: 0.5770 - val_accuracy: 0.7175\n",
            "Epoch 132/150\n",
            "63/63 [==============================] - 0s 5ms/step - loss: 0.2212 - accuracy: 0.9300 - val_loss: 0.5786 - val_accuracy: 0.7100\n",
            "Epoch 133/150\n",
            "63/63 [==============================] - 0s 5ms/step - loss: 0.2139 - accuracy: 0.9255 - val_loss: 0.6783 - val_accuracy: 0.7100\n",
            "Epoch 134/150\n",
            "63/63 [==============================] - 0s 6ms/step - loss: 0.2281 - accuracy: 0.9160 - val_loss: 0.6904 - val_accuracy: 0.7100\n",
            "Epoch 135/150\n",
            "63/63 [==============================] - 0s 5ms/step - loss: 0.2439 - accuracy: 0.9095 - val_loss: 0.5623 - val_accuracy: 0.7200\n",
            "Epoch 136/150\n",
            "63/63 [==============================] - 0s 5ms/step - loss: 0.2310 - accuracy: 0.9125 - val_loss: 0.6352 - val_accuracy: 0.7100\n",
            "Epoch 137/150\n",
            "63/63 [==============================] - 0s 5ms/step - loss: 0.2086 - accuracy: 0.9300 - val_loss: 0.6780 - val_accuracy: 0.7100\n",
            "Epoch 138/150\n",
            "63/63 [==============================] - 0s 5ms/step - loss: 0.2218 - accuracy: 0.9250 - val_loss: 0.6490 - val_accuracy: 0.7075\n",
            "Epoch 139/150\n",
            "63/63 [==============================] - 0s 5ms/step - loss: 0.2044 - accuracy: 0.9290 - val_loss: 0.7350 - val_accuracy: 0.7075\n",
            "Epoch 140/150\n",
            "63/63 [==============================] - 0s 5ms/step - loss: 0.2328 - accuracy: 0.9135 - val_loss: 0.5224 - val_accuracy: 0.7375\n",
            "Epoch 141/150\n",
            "63/63 [==============================] - 0s 6ms/step - loss: 0.2336 - accuracy: 0.9155 - val_loss: 0.6915 - val_accuracy: 0.7075\n",
            "Epoch 142/150\n",
            "63/63 [==============================] - 0s 5ms/step - loss: 0.2258 - accuracy: 0.9160 - val_loss: 0.6034 - val_accuracy: 0.7175\n",
            "Epoch 143/150\n",
            "63/63 [==============================] - 0s 5ms/step - loss: 0.2159 - accuracy: 0.9220 - val_loss: 0.6369 - val_accuracy: 0.7200\n",
            "Epoch 144/150\n",
            "63/63 [==============================] - 0s 7ms/step - loss: 0.2366 - accuracy: 0.9115 - val_loss: 0.5851 - val_accuracy: 0.7300\n",
            "Epoch 145/150\n",
            "63/63 [==============================] - 0s 7ms/step - loss: 0.2242 - accuracy: 0.9190 - val_loss: 0.6024 - val_accuracy: 0.7075\n",
            "Epoch 146/150\n",
            "63/63 [==============================] - 0s 7ms/step - loss: 0.2274 - accuracy: 0.9275 - val_loss: 0.6066 - val_accuracy: 0.7100\n",
            "Epoch 147/150\n",
            "63/63 [==============================] - 0s 7ms/step - loss: 0.1980 - accuracy: 0.9265 - val_loss: 0.7085 - val_accuracy: 0.7100\n",
            "Epoch 148/150\n",
            "63/63 [==============================] - 0s 7ms/step - loss: 0.2293 - accuracy: 0.9270 - val_loss: 0.6071 - val_accuracy: 0.7175\n",
            "Epoch 149/150\n",
            "63/63 [==============================] - 0s 5ms/step - loss: 0.2074 - accuracy: 0.9295 - val_loss: 0.8913 - val_accuracy: 0.6825\n",
            "Epoch 150/150\n",
            "63/63 [==============================] - 0s 6ms/step - loss: 0.2079 - accuracy: 0.9205 - val_loss: 0.5995 - val_accuracy: 0.7225\n",
            "Epoch 1/150\n",
            "63/63 [==============================] - 2s 12ms/step - loss: 2.6657 - accuracy: 0.5225 - val_loss: 2.6460 - val_accuracy: 0.5000\n",
            "Epoch 2/150\n",
            "63/63 [==============================] - 1s 8ms/step - loss: 2.6365 - accuracy: 0.5135 - val_loss: 2.6146 - val_accuracy: 0.5025\n",
            "Epoch 3/150\n",
            "63/63 [==============================] - 0s 8ms/step - loss: 2.6029 - accuracy: 0.5270 - val_loss: 2.5838 - val_accuracy: 0.5175\n",
            "Epoch 4/150\n",
            "63/63 [==============================] - 0s 8ms/step - loss: 2.5705 - accuracy: 0.5615 - val_loss: 2.5532 - val_accuracy: 0.5675\n",
            "Epoch 5/150\n",
            "63/63 [==============================] - 0s 8ms/step - loss: 2.5422 - accuracy: 0.5565 - val_loss: 2.5239 - val_accuracy: 0.5575\n",
            "Epoch 6/150\n",
            "63/63 [==============================] - 1s 8ms/step - loss: 2.5125 - accuracy: 0.5805 - val_loss: 2.4943 - val_accuracy: 0.7025\n",
            "Epoch 7/150\n",
            "63/63 [==============================] - 1s 8ms/step - loss: 2.4835 - accuracy: 0.5885 - val_loss: 2.4651 - val_accuracy: 0.7550\n",
            "Epoch 8/150\n",
            "63/63 [==============================] - 0s 8ms/step - loss: 2.4497 - accuracy: 0.6355 - val_loss: 2.4360 - val_accuracy: 0.7125\n",
            "Epoch 9/150\n",
            "63/63 [==============================] - 1s 8ms/step - loss: 2.4185 - accuracy: 0.6480 - val_loss: 2.4067 - val_accuracy: 0.6400\n",
            "Epoch 10/150\n",
            "63/63 [==============================] - 1s 8ms/step - loss: 2.3901 - accuracy: 0.6430 - val_loss: 2.3779 - val_accuracy: 0.7500\n",
            "Epoch 11/150\n",
            "63/63 [==============================] - 0s 8ms/step - loss: 2.3624 - accuracy: 0.6590 - val_loss: 2.3498 - val_accuracy: 0.8075\n",
            "Epoch 12/150\n",
            "63/63 [==============================] - 0s 8ms/step - loss: 2.3369 - accuracy: 0.6600 - val_loss: 2.3201 - val_accuracy: 0.8175\n",
            "Epoch 13/150\n",
            "63/63 [==============================] - 0s 8ms/step - loss: 2.3021 - accuracy: 0.6940 - val_loss: 2.2901 - val_accuracy: 0.8125\n",
            "Epoch 14/150\n",
            "63/63 [==============================] - 0s 8ms/step - loss: 2.2728 - accuracy: 0.7250 - val_loss: 2.2598 - val_accuracy: 0.7825\n",
            "Epoch 15/150\n",
            "63/63 [==============================] - 0s 7ms/step - loss: 2.2436 - accuracy: 0.7215 - val_loss: 2.2309 - val_accuracy: 0.8100\n",
            "Epoch 16/150\n",
            "63/63 [==============================] - 1s 9ms/step - loss: 2.2097 - accuracy: 0.7425 - val_loss: 2.2029 - val_accuracy: 0.8100\n",
            "Epoch 17/150\n",
            "63/63 [==============================] - 1s 10ms/step - loss: 2.1825 - accuracy: 0.7445 - val_loss: 2.1730 - val_accuracy: 0.8175\n",
            "Epoch 18/150\n",
            "63/63 [==============================] - 1s 10ms/step - loss: 2.1603 - accuracy: 0.7480 - val_loss: 2.1442 - val_accuracy: 0.8250\n",
            "Epoch 19/150\n",
            "63/63 [==============================] - 1s 10ms/step - loss: 2.1253 - accuracy: 0.7720 - val_loss: 2.1168 - val_accuracy: 0.8250\n",
            "Epoch 20/150\n",
            "63/63 [==============================] - 1s 8ms/step - loss: 2.1037 - accuracy: 0.7700 - val_loss: 2.0917 - val_accuracy: 0.8350\n",
            "Epoch 21/150\n",
            "63/63 [==============================] - 0s 8ms/step - loss: 2.0715 - accuracy: 0.7825 - val_loss: 2.0602 - val_accuracy: 0.8275\n",
            "Epoch 22/150\n",
            "63/63 [==============================] - 0s 8ms/step - loss: 2.0447 - accuracy: 0.7820 - val_loss: 2.0381 - val_accuracy: 0.8400\n",
            "Epoch 23/150\n",
            "63/63 [==============================] - 0s 8ms/step - loss: 2.0141 - accuracy: 0.8005 - val_loss: 2.0062 - val_accuracy: 0.8300\n",
            "Epoch 24/150\n",
            "63/63 [==============================] - 0s 8ms/step - loss: 1.9885 - accuracy: 0.7910 - val_loss: 1.9905 - val_accuracy: 0.8025\n",
            "Epoch 25/150\n",
            "63/63 [==============================] - 0s 8ms/step - loss: 1.9658 - accuracy: 0.8025 - val_loss: 1.9526 - val_accuracy: 0.8325\n",
            "Epoch 26/150\n",
            "63/63 [==============================] - 0s 8ms/step - loss: 1.9410 - accuracy: 0.8040 - val_loss: 1.9306 - val_accuracy: 0.8375\n",
            "Epoch 27/150\n",
            "63/63 [==============================] - 1s 8ms/step - loss: 1.9095 - accuracy: 0.8285 - val_loss: 1.9018 - val_accuracy: 0.8425\n",
            "Epoch 28/150\n",
            "63/63 [==============================] - 0s 8ms/step - loss: 1.8885 - accuracy: 0.8220 - val_loss: 1.8923 - val_accuracy: 0.8125\n",
            "Epoch 29/150\n",
            "63/63 [==============================] - 0s 8ms/step - loss: 1.8587 - accuracy: 0.8390 - val_loss: 1.8521 - val_accuracy: 0.8400\n",
            "Epoch 30/150\n",
            "63/63 [==============================] - 1s 9ms/step - loss: 1.8334 - accuracy: 0.8335 - val_loss: 1.8187 - val_accuracy: 0.8400\n",
            "Epoch 31/150\n",
            "63/63 [==============================] - 1s 8ms/step - loss: 1.8022 - accuracy: 0.8470 - val_loss: 1.8105 - val_accuracy: 0.8325\n",
            "Epoch 32/150\n",
            "63/63 [==============================] - 0s 8ms/step - loss: 1.7782 - accuracy: 0.8435 - val_loss: 1.7714 - val_accuracy: 0.8350\n",
            "Epoch 33/150\n",
            "63/63 [==============================] - 1s 8ms/step - loss: 1.7627 - accuracy: 0.8460 - val_loss: 1.7476 - val_accuracy: 0.8500\n",
            "Epoch 34/150\n",
            "63/63 [==============================] - 0s 7ms/step - loss: 1.7292 - accuracy: 0.8620 - val_loss: 1.7361 - val_accuracy: 0.8425\n",
            "Epoch 35/150\n",
            "63/63 [==============================] - 1s 8ms/step - loss: 1.7005 - accuracy: 0.8625 - val_loss: 1.7110 - val_accuracy: 0.8475\n",
            "Epoch 36/150\n",
            "63/63 [==============================] - 1s 9ms/step - loss: 1.6858 - accuracy: 0.8620 - val_loss: 1.6820 - val_accuracy: 0.8575\n",
            "Epoch 37/150\n",
            "63/63 [==============================] - 1s 8ms/step - loss: 1.6662 - accuracy: 0.8540 - val_loss: 1.6991 - val_accuracy: 0.8175\n",
            "Epoch 38/150\n",
            "63/63 [==============================] - 1s 8ms/step - loss: 1.6410 - accuracy: 0.8735 - val_loss: 1.6494 - val_accuracy: 0.8475\n",
            "Epoch 39/150\n",
            "63/63 [==============================] - 1s 8ms/step - loss: 1.6134 - accuracy: 0.8765 - val_loss: 1.6430 - val_accuracy: 0.8400\n",
            "Epoch 40/150\n",
            "63/63 [==============================] - 1s 10ms/step - loss: 1.5910 - accuracy: 0.8700 - val_loss: 1.6168 - val_accuracy: 0.8400\n",
            "Epoch 41/150\n",
            "63/63 [==============================] - 1s 11ms/step - loss: 1.5858 - accuracy: 0.8720 - val_loss: 1.5932 - val_accuracy: 0.8600\n",
            "Epoch 42/150\n",
            "63/63 [==============================] - 1s 11ms/step - loss: 1.5580 - accuracy: 0.8865 - val_loss: 1.5956 - val_accuracy: 0.8375\n",
            "Epoch 43/150\n",
            "63/63 [==============================] - 1s 9ms/step - loss: 1.5436 - accuracy: 0.8865 - val_loss: 1.5887 - val_accuracy: 0.8375\n",
            "Epoch 44/150\n",
            "63/63 [==============================] - 0s 8ms/step - loss: 1.5339 - accuracy: 0.8790 - val_loss: 1.5528 - val_accuracy: 0.8450\n",
            "Epoch 45/150\n",
            "63/63 [==============================] - 0s 8ms/step - loss: 1.5057 - accuracy: 0.8890 - val_loss: 1.5602 - val_accuracy: 0.8425\n",
            "Epoch 46/150\n",
            "63/63 [==============================] - 0s 8ms/step - loss: 1.4834 - accuracy: 0.8990 - val_loss: 1.5627 - val_accuracy: 0.8300\n",
            "Epoch 47/150\n",
            "63/63 [==============================] - 1s 8ms/step - loss: 1.4668 - accuracy: 0.8945 - val_loss: 1.4929 - val_accuracy: 0.8700\n",
            "Epoch 48/150\n",
            "63/63 [==============================] - 1s 8ms/step - loss: 1.4547 - accuracy: 0.8955 - val_loss: 1.5241 - val_accuracy: 0.8425\n",
            "Epoch 49/150\n",
            "63/63 [==============================] - 0s 8ms/step - loss: 1.4436 - accuracy: 0.8870 - val_loss: 1.4677 - val_accuracy: 0.8725\n",
            "Epoch 50/150\n",
            "63/63 [==============================] - 1s 8ms/step - loss: 1.4256 - accuracy: 0.8995 - val_loss: 1.4570 - val_accuracy: 0.8675\n",
            "Epoch 51/150\n",
            "63/63 [==============================] - 0s 8ms/step - loss: 1.4077 - accuracy: 0.9005 - val_loss: 1.4421 - val_accuracy: 0.8675\n",
            "Epoch 52/150\n",
            "63/63 [==============================] - 0s 8ms/step - loss: 1.3846 - accuracy: 0.9035 - val_loss: 1.4808 - val_accuracy: 0.8400\n",
            "Epoch 53/150\n",
            "63/63 [==============================] - 0s 8ms/step - loss: 1.3809 - accuracy: 0.8985 - val_loss: 1.4714 - val_accuracy: 0.8375\n",
            "Epoch 54/150\n",
            "63/63 [==============================] - 1s 8ms/step - loss: 1.3582 - accuracy: 0.9070 - val_loss: 1.4154 - val_accuracy: 0.8625\n",
            "Epoch 55/150\n",
            "63/63 [==============================] - 0s 7ms/step - loss: 1.3600 - accuracy: 0.9045 - val_loss: 1.4272 - val_accuracy: 0.8425\n",
            "Epoch 56/150\n",
            "63/63 [==============================] - 0s 8ms/step - loss: 1.3357 - accuracy: 0.9080 - val_loss: 1.3930 - val_accuracy: 0.8675\n",
            "Epoch 57/150\n",
            "63/63 [==============================] - 0s 8ms/step - loss: 1.3246 - accuracy: 0.9070 - val_loss: 1.4047 - val_accuracy: 0.8425\n",
            "Epoch 58/150\n",
            "63/63 [==============================] - 1s 8ms/step - loss: 1.3034 - accuracy: 0.9120 - val_loss: 1.3600 - val_accuracy: 0.8750\n",
            "Epoch 59/150\n",
            "63/63 [==============================] - 1s 8ms/step - loss: 1.3060 - accuracy: 0.9085 - val_loss: 1.3624 - val_accuracy: 0.8675\n",
            "Epoch 60/150\n",
            "63/63 [==============================] - 0s 8ms/step - loss: 1.2774 - accuracy: 0.9095 - val_loss: 1.3745 - val_accuracy: 0.8425\n",
            "Epoch 61/150\n",
            "63/63 [==============================] - 0s 8ms/step - loss: 1.2697 - accuracy: 0.9155 - val_loss: 1.3466 - val_accuracy: 0.8625\n",
            "Epoch 62/150\n",
            "63/63 [==============================] - 0s 8ms/step - loss: 1.2611 - accuracy: 0.9160 - val_loss: 1.4015 - val_accuracy: 0.8325\n",
            "Epoch 63/150\n",
            "63/63 [==============================] - 1s 9ms/step - loss: 1.2471 - accuracy: 0.9215 - val_loss: 1.3040 - val_accuracy: 0.8750\n",
            "Epoch 64/150\n",
            "63/63 [==============================] - 1s 10ms/step - loss: 1.2417 - accuracy: 0.9140 - val_loss: 1.3223 - val_accuracy: 0.8525\n",
            "Epoch 65/150\n",
            "63/63 [==============================] - 1s 10ms/step - loss: 1.2344 - accuracy: 0.9250 - val_loss: 1.3161 - val_accuracy: 0.8525\n",
            "Epoch 66/150\n",
            "63/63 [==============================] - 1s 11ms/step - loss: 1.2127 - accuracy: 0.9260 - val_loss: 1.2674 - val_accuracy: 0.8800\n",
            "Epoch 67/150\n",
            "63/63 [==============================] - 1s 8ms/step - loss: 1.1983 - accuracy: 0.9330 - val_loss: 1.3012 - val_accuracy: 0.8525\n",
            "Epoch 68/150\n",
            "63/63 [==============================] - 0s 8ms/step - loss: 1.1886 - accuracy: 0.9210 - val_loss: 1.3119 - val_accuracy: 0.8400\n",
            "Epoch 69/150\n",
            "63/63 [==============================] - 1s 8ms/step - loss: 1.1845 - accuracy: 0.9275 - val_loss: 1.3061 - val_accuracy: 0.8400\n",
            "Epoch 70/150\n",
            "63/63 [==============================] - 0s 8ms/step - loss: 1.1811 - accuracy: 0.9275 - val_loss: 1.3791 - val_accuracy: 0.8000\n",
            "Epoch 71/150\n",
            "63/63 [==============================] - 0s 8ms/step - loss: 1.1590 - accuracy: 0.9270 - val_loss: 1.2640 - val_accuracy: 0.8625\n",
            "Epoch 72/150\n",
            "63/63 [==============================] - 0s 8ms/step - loss: 1.1609 - accuracy: 0.9195 - val_loss: 1.2480 - val_accuracy: 0.8675\n",
            "Epoch 73/150\n",
            "63/63 [==============================] - 0s 8ms/step - loss: 1.1416 - accuracy: 0.9250 - val_loss: 1.2624 - val_accuracy: 0.8500\n",
            "Epoch 74/150\n",
            "63/63 [==============================] - 0s 8ms/step - loss: 1.1306 - accuracy: 0.9350 - val_loss: 1.2935 - val_accuracy: 0.8325\n",
            "Epoch 75/150\n",
            "63/63 [==============================] - 0s 7ms/step - loss: 1.1266 - accuracy: 0.9295 - val_loss: 1.2633 - val_accuracy: 0.8425\n",
            "Epoch 76/150\n",
            "63/63 [==============================] - 0s 8ms/step - loss: 1.1219 - accuracy: 0.9295 - val_loss: 1.2585 - val_accuracy: 0.8375\n",
            "Epoch 77/150\n",
            "63/63 [==============================] - 0s 8ms/step - loss: 1.1135 - accuracy: 0.9250 - val_loss: 1.2373 - val_accuracy: 0.8475\n",
            "Epoch 78/150\n",
            "63/63 [==============================] - 0s 8ms/step - loss: 1.0961 - accuracy: 0.9310 - val_loss: 1.2721 - val_accuracy: 0.8250\n",
            "Epoch 79/150\n",
            "63/63 [==============================] - 0s 7ms/step - loss: 1.0916 - accuracy: 0.9275 - val_loss: 1.1919 - val_accuracy: 0.8700\n",
            "Epoch 80/150\n",
            "63/63 [==============================] - 1s 8ms/step - loss: 1.0971 - accuracy: 0.9250 - val_loss: 1.2025 - val_accuracy: 0.8600\n",
            "Epoch 81/150\n",
            "63/63 [==============================] - 0s 8ms/step - loss: 1.0801 - accuracy: 0.9310 - val_loss: 1.2422 - val_accuracy: 0.8225\n",
            "Epoch 82/150\n",
            "63/63 [==============================] - 0s 8ms/step - loss: 1.0709 - accuracy: 0.9340 - val_loss: 1.1995 - val_accuracy: 0.8500\n",
            "Epoch 83/150\n",
            "63/63 [==============================] - 0s 8ms/step - loss: 1.0624 - accuracy: 0.9330 - val_loss: 1.1911 - val_accuracy: 0.8500\n",
            "Epoch 84/150\n",
            "63/63 [==============================] - 0s 8ms/step - loss: 1.0556 - accuracy: 0.9310 - val_loss: 1.1903 - val_accuracy: 0.8500\n",
            "Epoch 85/150\n",
            "63/63 [==============================] - 0s 7ms/step - loss: 1.0477 - accuracy: 0.9365 - val_loss: 1.2304 - val_accuracy: 0.8225\n",
            "Epoch 86/150\n",
            "63/63 [==============================] - 1s 8ms/step - loss: 1.0366 - accuracy: 0.9345 - val_loss: 1.2302 - val_accuracy: 0.8225\n",
            "Epoch 87/150\n",
            "63/63 [==============================] - 1s 9ms/step - loss: 1.0309 - accuracy: 0.9335 - val_loss: 1.2382 - val_accuracy: 0.8075\n",
            "Epoch 88/150\n",
            "63/63 [==============================] - 1s 10ms/step - loss: 1.0209 - accuracy: 0.9380 - val_loss: 1.1570 - val_accuracy: 0.8500\n",
            "Epoch 89/150\n",
            "63/63 [==============================] - 1s 10ms/step - loss: 1.0199 - accuracy: 0.9325 - val_loss: 1.2339 - val_accuracy: 0.8125\n",
            "Epoch 90/150\n",
            "63/63 [==============================] - 1s 10ms/step - loss: 1.0175 - accuracy: 0.9370 - val_loss: 1.2398 - val_accuracy: 0.8050\n",
            "Epoch 91/150\n",
            "63/63 [==============================] - 1s 9ms/step - loss: 1.0053 - accuracy: 0.9335 - val_loss: 1.1254 - val_accuracy: 0.8650\n",
            "Epoch 92/150\n",
            "63/63 [==============================] - 1s 8ms/step - loss: 0.9857 - accuracy: 0.9390 - val_loss: 1.1200 - val_accuracy: 0.8650\n",
            "Epoch 93/150\n",
            "63/63 [==============================] - 0s 8ms/step - loss: 0.9791 - accuracy: 0.9435 - val_loss: 1.3519 - val_accuracy: 0.7625\n",
            "Epoch 94/150\n",
            "63/63 [==============================] - 1s 8ms/step - loss: 0.9770 - accuracy: 0.9410 - val_loss: 1.1317 - val_accuracy: 0.8475\n",
            "Epoch 95/150\n",
            "63/63 [==============================] - 1s 8ms/step - loss: 0.9670 - accuracy: 0.9415 - val_loss: 1.1773 - val_accuracy: 0.8175\n",
            "Epoch 96/150\n",
            "63/63 [==============================] - 1s 8ms/step - loss: 0.9725 - accuracy: 0.9440 - val_loss: 1.1303 - val_accuracy: 0.8400\n",
            "Epoch 97/150\n",
            "63/63 [==============================] - 1s 8ms/step - loss: 0.9618 - accuracy: 0.9400 - val_loss: 1.0948 - val_accuracy: 0.8650\n",
            "Epoch 98/150\n",
            "63/63 [==============================] - 0s 8ms/step - loss: 0.9610 - accuracy: 0.9400 - val_loss: 1.1801 - val_accuracy: 0.8150\n",
            "Epoch 99/150\n",
            "63/63 [==============================] - 0s 8ms/step - loss: 0.9474 - accuracy: 0.9430 - val_loss: 1.1959 - val_accuracy: 0.8050\n",
            "Epoch 100/150\n",
            "63/63 [==============================] - 1s 8ms/step - loss: 0.9417 - accuracy: 0.9420 - val_loss: 1.1305 - val_accuracy: 0.8350\n",
            "Epoch 101/150\n",
            "63/63 [==============================] - 0s 7ms/step - loss: 0.9316 - accuracy: 0.9475 - val_loss: 1.1109 - val_accuracy: 0.8350\n",
            "Epoch 102/150\n",
            "63/63 [==============================] - 0s 8ms/step - loss: 0.9355 - accuracy: 0.9435 - val_loss: 1.2248 - val_accuracy: 0.7950\n",
            "Epoch 103/150\n",
            "63/63 [==============================] - 1s 8ms/step - loss: 0.9281 - accuracy: 0.9420 - val_loss: 1.3119 - val_accuracy: 0.7550\n",
            "Epoch 104/150\n",
            "63/63 [==============================] - 0s 8ms/step - loss: 0.9233 - accuracy: 0.9485 - val_loss: 1.1896 - val_accuracy: 0.7950\n",
            "Epoch 105/150\n",
            "63/63 [==============================] - 1s 8ms/step - loss: 0.9144 - accuracy: 0.9435 - val_loss: 1.2151 - val_accuracy: 0.7900\n",
            "Epoch 106/150\n",
            "63/63 [==============================] - 1s 8ms/step - loss: 0.9134 - accuracy: 0.9440 - val_loss: 1.2222 - val_accuracy: 0.7900\n",
            "Epoch 107/150\n",
            "63/63 [==============================] - 1s 8ms/step - loss: 0.9014 - accuracy: 0.9450 - val_loss: 1.1935 - val_accuracy: 0.7950\n",
            "Epoch 108/150\n",
            "63/63 [==============================] - 1s 8ms/step - loss: 0.8980 - accuracy: 0.9465 - val_loss: 1.1395 - val_accuracy: 0.8100\n",
            "Epoch 109/150\n",
            "63/63 [==============================] - 1s 8ms/step - loss: 0.9005 - accuracy: 0.9460 - val_loss: 1.3494 - val_accuracy: 0.7375\n",
            "Epoch 110/150\n",
            "63/63 [==============================] - 1s 9ms/step - loss: 0.8770 - accuracy: 0.9500 - val_loss: 1.1863 - val_accuracy: 0.7925\n",
            "Epoch 111/150\n",
            "63/63 [==============================] - 1s 11ms/step - loss: 0.8846 - accuracy: 0.9465 - val_loss: 1.1308 - val_accuracy: 0.8075\n",
            "Epoch 112/150\n",
            "63/63 [==============================] - 1s 10ms/step - loss: 0.8781 - accuracy: 0.9455 - val_loss: 1.1400 - val_accuracy: 0.8000\n",
            "Epoch 113/150\n",
            "63/63 [==============================] - 1s 10ms/step - loss: 0.8706 - accuracy: 0.9490 - val_loss: 1.0975 - val_accuracy: 0.8200\n",
            "Epoch 114/150\n",
            "63/63 [==============================] - 1s 10ms/step - loss: 0.8683 - accuracy: 0.9475 - val_loss: 1.1190 - val_accuracy: 0.8125\n",
            "Epoch 115/150\n",
            "63/63 [==============================] - 1s 9ms/step - loss: 0.8572 - accuracy: 0.9535 - val_loss: 1.0834 - val_accuracy: 0.8200\n",
            "Epoch 116/150\n",
            "63/63 [==============================] - 1s 8ms/step - loss: 0.8539 - accuracy: 0.9560 - val_loss: 1.1635 - val_accuracy: 0.7900\n",
            "Epoch 117/150\n",
            "63/63 [==============================] - 1s 8ms/step - loss: 0.8527 - accuracy: 0.9475 - val_loss: 1.1324 - val_accuracy: 0.7950\n",
            "Epoch 118/150\n",
            "63/63 [==============================] - 0s 8ms/step - loss: 0.8427 - accuracy: 0.9550 - val_loss: 1.1870 - val_accuracy: 0.7850\n",
            "Epoch 119/150\n",
            "63/63 [==============================] - 1s 8ms/step - loss: 0.8441 - accuracy: 0.9520 - val_loss: 1.0698 - val_accuracy: 0.8250\n",
            "Epoch 120/150\n",
            "63/63 [==============================] - 1s 8ms/step - loss: 0.8392 - accuracy: 0.9520 - val_loss: 1.0953 - val_accuracy: 0.8100\n",
            "Epoch 121/150\n",
            "63/63 [==============================] - 0s 8ms/step - loss: 0.8241 - accuracy: 0.9530 - val_loss: 1.0265 - val_accuracy: 0.8450\n",
            "Epoch 122/150\n",
            "63/63 [==============================] - 1s 8ms/step - loss: 0.8326 - accuracy: 0.9475 - val_loss: 1.3135 - val_accuracy: 0.7375\n",
            "Epoch 123/150\n",
            "63/63 [==============================] - 0s 8ms/step - loss: 0.8362 - accuracy: 0.9460 - val_loss: 1.0723 - val_accuracy: 0.8150\n",
            "Epoch 124/150\n",
            "63/63 [==============================] - 1s 8ms/step - loss: 0.8186 - accuracy: 0.9495 - val_loss: 1.2208 - val_accuracy: 0.7650\n",
            "Epoch 125/150\n",
            "63/63 [==============================] - 1s 8ms/step - loss: 0.8164 - accuracy: 0.9515 - val_loss: 1.2997 - val_accuracy: 0.7450\n",
            "Epoch 126/150\n",
            "63/63 [==============================] - 0s 8ms/step - loss: 0.8125 - accuracy: 0.9505 - val_loss: 1.2554 - val_accuracy: 0.7600\n",
            "Epoch 127/150\n",
            "63/63 [==============================] - 0s 8ms/step - loss: 0.8091 - accuracy: 0.9545 - val_loss: 1.1292 - val_accuracy: 0.7900\n",
            "Epoch 128/150\n",
            "63/63 [==============================] - 1s 8ms/step - loss: 0.7983 - accuracy: 0.9545 - val_loss: 1.1619 - val_accuracy: 0.7800\n",
            "Epoch 129/150\n",
            "63/63 [==============================] - 0s 8ms/step - loss: 0.8006 - accuracy: 0.9550 - val_loss: 0.9955 - val_accuracy: 0.8500\n",
            "Epoch 130/150\n",
            "63/63 [==============================] - 0s 8ms/step - loss: 0.7969 - accuracy: 0.9480 - val_loss: 1.1636 - val_accuracy: 0.7775\n",
            "Epoch 131/150\n",
            "63/63 [==============================] - 1s 8ms/step - loss: 0.7929 - accuracy: 0.9510 - val_loss: 1.0040 - val_accuracy: 0.8400\n",
            "Epoch 132/150\n",
            "63/63 [==============================] - 1s 8ms/step - loss: 0.7907 - accuracy: 0.9510 - val_loss: 1.0529 - val_accuracy: 0.8150\n",
            "Epoch 133/150\n",
            "63/63 [==============================] - 0s 8ms/step - loss: 0.7818 - accuracy: 0.9545 - val_loss: 1.3010 - val_accuracy: 0.7325\n",
            "Epoch 134/150\n",
            "63/63 [==============================] - 1s 10ms/step - loss: 0.7898 - accuracy: 0.9505 - val_loss: 1.1069 - val_accuracy: 0.7900\n",
            "Epoch 135/150\n",
            "63/63 [==============================] - 1s 10ms/step - loss: 0.7792 - accuracy: 0.9475 - val_loss: 1.1756 - val_accuracy: 0.7625\n",
            "Epoch 136/150\n",
            "63/63 [==============================] - 1s 10ms/step - loss: 0.7761 - accuracy: 0.9590 - val_loss: 1.1162 - val_accuracy: 0.7850\n",
            "Epoch 137/150\n",
            "63/63 [==============================] - 1s 10ms/step - loss: 0.7727 - accuracy: 0.9535 - val_loss: 1.1350 - val_accuracy: 0.7750\n",
            "Epoch 138/150\n",
            "63/63 [==============================] - 1s 9ms/step - loss: 0.7623 - accuracy: 0.9545 - val_loss: 1.1038 - val_accuracy: 0.7900\n",
            "Epoch 139/150\n",
            "63/63 [==============================] - 1s 8ms/step - loss: 0.7616 - accuracy: 0.9560 - val_loss: 1.2421 - val_accuracy: 0.7525\n",
            "Epoch 140/150\n",
            "63/63 [==============================] - 0s 8ms/step - loss: 0.7648 - accuracy: 0.9555 - val_loss: 1.1648 - val_accuracy: 0.7625\n",
            "Epoch 141/150\n",
            "63/63 [==============================] - 0s 8ms/step - loss: 0.7540 - accuracy: 0.9535 - val_loss: 0.9931 - val_accuracy: 0.8125\n",
            "Epoch 142/150\n",
            "63/63 [==============================] - 0s 8ms/step - loss: 0.7492 - accuracy: 0.9550 - val_loss: 1.0792 - val_accuracy: 0.7975\n",
            "Epoch 143/150\n",
            "63/63 [==============================] - 1s 8ms/step - loss: 0.7498 - accuracy: 0.9535 - val_loss: 1.0562 - val_accuracy: 0.8075\n",
            "Epoch 144/150\n",
            "63/63 [==============================] - 1s 9ms/step - loss: 0.7408 - accuracy: 0.9530 - val_loss: 1.1547 - val_accuracy: 0.7625\n",
            "Epoch 145/150\n",
            "63/63 [==============================] - 1s 9ms/step - loss: 0.7385 - accuracy: 0.9575 - val_loss: 1.1930 - val_accuracy: 0.7575\n",
            "Epoch 146/150\n",
            "63/63 [==============================] - 1s 8ms/step - loss: 0.7347 - accuracy: 0.9570 - val_loss: 1.1808 - val_accuracy: 0.7575\n",
            "Epoch 147/150\n",
            "63/63 [==============================] - 1s 8ms/step - loss: 0.7311 - accuracy: 0.9505 - val_loss: 1.1919 - val_accuracy: 0.7575\n",
            "Epoch 148/150\n",
            "63/63 [==============================] - 0s 8ms/step - loss: 0.7360 - accuracy: 0.9535 - val_loss: 1.1416 - val_accuracy: 0.7625\n",
            "Epoch 149/150\n",
            "63/63 [==============================] - 1s 8ms/step - loss: 0.7303 - accuracy: 0.9535 - val_loss: 1.1420 - val_accuracy: 0.7650\n",
            "Epoch 150/150\n",
            "63/63 [==============================] - 0s 8ms/step - loss: 0.7229 - accuracy: 0.9615 - val_loss: 1.2573 - val_accuracy: 0.7350\n"
          ]
        }
      ]
    },
    {
      "cell_type": "markdown",
      "metadata": {
        "id": "1NbTRTFluCNt"
      },
      "source": [
        "**Can you interpret the numbers displayed? Which do you care about most?**\n",
        "\n",
        "*Hint*: \"validation set\" is similar to \"test set\"."
      ]
    },
    {
      "cell_type": "markdown",
      "metadata": {
        "id": "xlYo20_lttEA"
      },
      "source": [
        "###Scoring\n",
        "\n",
        "Now, let's evaluate our models! To get the scores, you can use:\n",
        "```\n",
        "score = model.evaluate(X_test, y_test)\n",
        "```\n",
        "\n",
        "Then `score[0]` will be test loss and `score[1]` will be test accuracy.\n",
        "\n"
      ]
    },
    {
      "cell_type": "code",
      "metadata": {
        "id": "tywOuLnPucIC"
      },
      "source": [
        "#YOUR CODE HERE to score your models"
      ],
      "execution_count": 36,
      "outputs": []
    },
    {
      "cell_type": "code",
      "metadata": {
        "id": "Bm4EET7BuepO",
        "colab": {
          "base_uri": "https://localhost:8080/"
        },
        "outputId": "71a49ed8-a54e-4d04-a2e3-9350f70ed939"
      },
      "source": [
        "#@title Instructor Solution\n",
        "cnn_score = cnn.evaluate(X_test, y_test)\n",
        "dense_score = dense.evaluate(X_test, y_test)\n",
        "print (cnn_score)\n",
        "print (dense_score)"
      ],
      "execution_count": 37,
      "outputs": [
        {
          "output_type": "stream",
          "name": "stdout",
          "text": [
            "13/13 [==============================] - 0s 4ms/step - loss: 1.2573 - accuracy: 0.7350\n",
            "13/13 [==============================] - 0s 3ms/step - loss: 0.5995 - accuracy: 0.7225\n",
            "[1.2573245763778687, 0.7350000143051147]\n",
            "[0.5994763970375061, 0.7225000262260437]\n"
          ]
        }
      ]
    },
    {
      "cell_type": "markdown",
      "metadata": {
        "id": "jakb5j_Hux7W"
      },
      "source": [
        "**Which model did better? Any surprises?**"
      ]
    },
    {
      "cell_type": "markdown",
      "metadata": {
        "id": "ozaEE78ktkyw"
      },
      "source": [
        "### Plotting\n",
        "\n",
        "A great way to understand our model better is to plot the training and test accuracy over time with `plot_acc(model_history)`.\n",
        "\n",
        "**What do you observe of the training and test accuracy over the training epochs?**\n",
        "\n",
        "Discuss this with your group and your instructor! What problems are we experiencing? How can we fix them?"
      ]
    },
    {
      "cell_type": "code",
      "metadata": {
        "id": "_nBfrnjIXzdp",
        "colab": {
          "base_uri": "https://localhost:8080/",
          "height": 893
        },
        "outputId": "e4deda0a-eb14-4d82-b768-3f21c67df857"
      },
      "source": [
        "#YOUR CODE HERE\n",
        "plot_acc(dense_history)\n",
        "plot_acc(cnn_history)"
      ],
      "execution_count": 38,
      "outputs": [
        {
          "output_type": "display_data",
          "data": {
            "text/plain": [
              "<Figure size 640x480 with 1 Axes>"
            ],
            "image/png": "[encoded data removed]"
          },
          "metadata": {}
        },
        {
          "output_type": "display_data",
          "data": {
            "text/plain": [
              "<Figure size 640x480 with 1 Axes>"
            ],
            "image/png": "[encoded data removed]"
          },
          "metadata": {}
        }
      ]
    },
    {
      "cell_type": "code",
      "source": [
        "score = cnn.evaluate(X_test, y_test)"
      ],
      "metadata": {
        "colab": {
          "base_uri": "https://localhost:8080/"
        },
        "id": "I8o5NE9V4uBc",
        "outputId": "f42db6b7-af82-420f-e018-1d5fdacdb41c"
      },
      "execution_count": 39,
      "outputs": [
        {
          "output_type": "stream",
          "name": "stdout",
          "text": [
            "13/13 [==============================] - 0s 4ms/step - loss: 1.2573 - accuracy: 0.7350\n"
          ]
        }
      ]
    },
    {
      "cell_type": "markdown",
      "metadata": {
        "id": "i3wqKrSyVBqr"
      },
      "source": [
        "## Instructor-Led Discussion: Overfitting\n",
        "\n",
        "**Questions:**\n",
        "Was the best epoch necessarily the last epoch?\n",
        "\n",
        "You should check what the best epoch was at every step of the way!\n",
        "\n",
        "**When does your model overfit? How could we fix it?**\n",
        "\n",
        "**Experiment with different network structures** before you move on!"
      ]
    },
    {
      "cell_type": "markdown",
      "metadata": {
        "id": "G5scKiYAYE8g"
      },
      "source": [
        "\n",
        "# Milestone 3. Expert models: Transfer learning"
      ]
    },
    {
      "cell_type": "markdown",
      "metadata": {
        "id": "FybhlxdVYFbv"
      },
      "source": [
        "\n",
        "## Instructor-Led Discussion: Transfer Learning\n"
      ]
    },
    {
      "cell_type": "markdown",
      "metadata": {
        "id": "3Bx5nyzE36EQ"
      },
      "source": [
        "So far, we've used models that were built from 'scratch'. Unfortunately, our training data is small relative to the amount of data available in the real world, so just training on our dataset is going to be inherently limited.\n",
        "\n",
        "Luckily, there are **expert models**, or state-of-the-art models that have been trained by the world's top researchers! While these expert models haven't trained on our training data, they have trained extensively on larger datasets. We can input our data and reasonably expect that they will pick up our task fairly quickly.\n",
        "\n",
        "In deep learning, the idea of using a model trained on another task as a starting point for your model is known as **transfer learning**."
      ]
    },
    {
      "cell_type": "markdown",
      "metadata": {
        "id": "DChmzlt3ARPy"
      },
      "source": [
        "### VGG 16"
      ]
    },
    {
      "cell_type": "markdown",
      "metadata": {
        "id": "lFtHOYI2AdSs"
      },
      "source": [
        "For our transfer learning, we're going to use 'experts' built upon the famous 'ImageNet' classification problem.\n",
        "\n",
        "In ImageNet, participants were challenged to build machine learning models that could distinguish 14 million images' categories, where there were > 20,000 categories available.\n",
        "\n",
        "Below, we see examples of 4 different categories.\n",
        "\n",
        "![](http://cs231n.github.io/assets/trainset.jpg)\n",
        "\n"
      ]
    },
    {
      "cell_type": "markdown",
      "metadata": {
        "id": "J-E_AiG-CFj0"
      },
      "source": [
        "One of the experts we can use is VGG16. VGG16 is a specific convolutional neural network that was allowed to study the 14 million images 74 times. *(Read more about VGG16 [here!](https://neurohive.io/en/popular-networks/vgg16/))*\n",
        "\n",
        "After training, VGG16 was able to guess something close to the real label (top-5 accuracy) better than a human can."
      ]
    },
    {
      "cell_type": "markdown",
      "metadata": {
        "id": "IvkajtdHAbzL"
      },
      "source": [
        "![](https://cdn-images-1.medium.com/max/1600/0*V1muWIDnPVwZUuEv.png)"
      ]
    },
    {
      "cell_type": "markdown",
      "metadata": {
        "id": "Vwj8o5X3D325"
      },
      "source": [
        "We're going to take an expert model like VGG16 and let it train on OUR x-rays. Hopefully, its experience with those 14 million images will help it differentiate between healthy and pneumonia-affected x-rays."
      ]
    },
    {
      "cell_type": "markdown",
      "metadata": {
        "id": "g-357WWC7qJJ"
      },
      "source": [
        "### Exercise (Coding) | Within a student group"
      ]
    },
    {
      "cell_type": "markdown",
      "metadata": {
        "id": "uz_mVsECHvro"
      },
      "source": [
        "Let's tap an expert model to help us out with our pneumonia prediction!\n",
        "\n",
        "We provide a wrapper that lets you 'call' up and employ expert models. You can call it like...\n",
        "\n",
        "```\n",
        "transfer = TransferClassifier(name = 'VGG16')\n",
        "```\n",
        "\n",
        "The experts we have on hand are:\n",
        "* `VGG16`\n",
        "* `VGG19`\n",
        "* `ResNet50`\n",
        "* `DenseNet121`\n",
        "\n",
        "There are default parameters to model.fit you can call:\n",
        "\n",
        "`model.fit(X_train, y_train, epochs = N, validation_data = (X_test, y_test), shuffle = True, callbacks = [monitor])`\n",
        "\n",
        "The `shuffle` parameter is important for shuffling the training data before each epoch. The `[monitor]` callback is used to get a view on internal states and statistics of the model during training. Do not change these parameters!\n",
        "\n",
        "**Please experiment with using these experts! Remember to fit and score your model, and to take a look at the training history.**\n",
        "\n",
        "How many epochs do you need now?\n"
      ]
    },
    {
      "cell_type": "code",
      "metadata": {
        "id": "0VB79BCx7tvg",
        "colab": {
          "base_uri": "https://localhost:8080/",
          "height": 1000
        },
        "outputId": "1a69040e-3b59-4772-9d66-b9ebb68f5b1d"
      },
      "source": [
        "### YOUR CODE HERE\n",
        "X_train, y_train = get_train_data()\n",
        "X_test, y_test = get_test_data()\n",
        "transfer = TransferClassifier(name = 'VGG16')\n",
        "transfer.fit(X_train, y_train, epochs = 150, validation_data = (X_test, y_test), shuffle = True, callbacks = [monitor])\n",
        "plot_acc(transfer.history)\n",
        "### END CODE"
      ],
      "execution_count": 40,
      "outputs": [
        {
          "output_type": "stream",
          "name": "stdout",
          "text": [
            "Epoch 1/150\n",
            "63/63 [==============================] - 3s 26ms/step - loss: 0.6781 - accuracy: 0.6020 - val_loss: 0.6655 - val_accuracy: 0.6575\n",
            "Epoch 2/150\n",
            "63/63 [==============================] - 1s 21ms/step - loss: 0.6566 - accuracy: 0.7220 - val_loss: 0.6494 - val_accuracy: 0.7075\n",
            "Epoch 3/150\n",
            "63/63 [==============================] - 1s 20ms/step - loss: 0.6393 - accuracy: 0.7700 - val_loss: 0.6371 - val_accuracy: 0.7400\n",
            "Epoch 4/150\n",
            "63/63 [==============================] - 1s 19ms/step - loss: 0.6258 - accuracy: 0.7965 - val_loss: 0.6266 - val_accuracy: 0.7500\n",
            "Epoch 5/150\n",
            "63/63 [==============================] - 1s 21ms/step - loss: 0.6127 - accuracy: 0.8175 - val_loss: 0.6164 - val_accuracy: 0.7700\n",
            "Epoch 6/150\n",
            "63/63 [==============================] - 1s 18ms/step - loss: 0.6005 - accuracy: 0.8225 - val_loss: 0.6068 - val_accuracy: 0.7700\n",
            "Epoch 7/150\n",
            "63/63 [==============================] - 1s 20ms/step - loss: 0.5872 - accuracy: 0.8375 - val_loss: 0.5973 - val_accuracy: 0.7775\n",
            "Epoch 8/150\n",
            "63/63 [==============================] - 1s 21ms/step - loss: 0.5757 - accuracy: 0.8480 - val_loss: 0.5872 - val_accuracy: 0.7775\n",
            "Epoch 9/150\n",
            "63/63 [==============================] - 1s 22ms/step - loss: 0.5644 - accuracy: 0.8490 - val_loss: 0.5785 - val_accuracy: 0.7800\n",
            "Epoch 10/150\n",
            "63/63 [==============================] - 1s 21ms/step - loss: 0.5533 - accuracy: 0.8460 - val_loss: 0.5711 - val_accuracy: 0.7800\n",
            "Epoch 11/150\n",
            "63/63 [==============================] - 1s 21ms/step - loss: 0.5425 - accuracy: 0.8535 - val_loss: 0.5636 - val_accuracy: 0.7800\n",
            "Epoch 12/150\n",
            "63/63 [==============================] - 1s 21ms/step - loss: 0.5315 - accuracy: 0.8530 - val_loss: 0.5529 - val_accuracy: 0.7900\n",
            "Epoch 13/150\n",
            "63/63 [==============================] - 1s 18ms/step - loss: 0.5214 - accuracy: 0.8570 - val_loss: 0.5456 - val_accuracy: 0.7925\n",
            "Epoch 14/150\n",
            "63/63 [==============================] - 1s 18ms/step - loss: 0.5109 - accuracy: 0.8555 - val_loss: 0.5395 - val_accuracy: 0.7825\n",
            "Epoch 15/150\n",
            "63/63 [==============================] - 1s 20ms/step - loss: 0.5003 - accuracy: 0.8645 - val_loss: 0.5275 - val_accuracy: 0.8000\n",
            "Epoch 16/150\n",
            "63/63 [==============================] - 1s 21ms/step - loss: 0.4908 - accuracy: 0.8625 - val_loss: 0.5210 - val_accuracy: 0.8000\n",
            "Epoch 17/150\n",
            "63/63 [==============================] - 1s 19ms/step - loss: 0.4805 - accuracy: 0.8635 - val_loss: 0.5124 - val_accuracy: 0.8025\n",
            "Epoch 18/150\n",
            "63/63 [==============================] - 1s 21ms/step - loss: 0.4716 - accuracy: 0.8615 - val_loss: 0.5093 - val_accuracy: 0.8050\n",
            "Epoch 19/150\n",
            "63/63 [==============================] - 1s 22ms/step - loss: 0.4618 - accuracy: 0.8645 - val_loss: 0.5020 - val_accuracy: 0.8025\n",
            "Epoch 20/150\n",
            "63/63 [==============================] - 1s 21ms/step - loss: 0.4521 - accuracy: 0.8680 - val_loss: 0.4975 - val_accuracy: 0.8050\n",
            "Epoch 21/150\n",
            "63/63 [==============================] - 1s 21ms/step - loss: 0.4426 - accuracy: 0.8735 - val_loss: 0.4892 - val_accuracy: 0.8100\n",
            "Epoch 22/150\n",
            "63/63 [==============================] - 1s 18ms/step - loss: 0.4333 - accuracy: 0.8715 - val_loss: 0.4823 - val_accuracy: 0.8150\n",
            "Epoch 23/150\n",
            "63/63 [==============================] - 1s 19ms/step - loss: 0.4244 - accuracy: 0.8745 - val_loss: 0.4802 - val_accuracy: 0.8025\n",
            "Epoch 24/150\n",
            "63/63 [==============================] - 1s 21ms/step - loss: 0.4170 - accuracy: 0.8740 - val_loss: 0.4812 - val_accuracy: 0.7975\n",
            "Epoch 25/150\n",
            "63/63 [==============================] - 1s 21ms/step - loss: 0.4085 - accuracy: 0.8810 - val_loss: 0.4752 - val_accuracy: 0.7975\n",
            "Epoch 26/150\n",
            "63/63 [==============================] - 1s 21ms/step - loss: 0.4005 - accuracy: 0.8780 - val_loss: 0.4666 - val_accuracy: 0.8050\n",
            "Epoch 27/150\n",
            "63/63 [==============================] - 1s 19ms/step - loss: 0.3933 - accuracy: 0.8810 - val_loss: 0.4614 - val_accuracy: 0.8100\n",
            "Epoch 28/150\n",
            "63/63 [==============================] - 1s 22ms/step - loss: 0.3863 - accuracy: 0.8825 - val_loss: 0.4569 - val_accuracy: 0.8100\n",
            "Epoch 29/150\n",
            "63/63 [==============================] - 1s 22ms/step - loss: 0.3789 - accuracy: 0.8840 - val_loss: 0.4564 - val_accuracy: 0.8125\n",
            "Epoch 30/150\n",
            "63/63 [==============================] - 1s 18ms/step - loss: 0.3723 - accuracy: 0.8835 - val_loss: 0.4573 - val_accuracy: 0.8000\n",
            "Epoch 31/150\n",
            "63/63 [==============================] - 1s 21ms/step - loss: 0.3648 - accuracy: 0.8865 - val_loss: 0.4542 - val_accuracy: 0.8050\n",
            "Epoch 32/150\n",
            "63/63 [==============================] - 1s 21ms/step - loss: 0.3563 - accuracy: 0.8915 - val_loss: 0.4471 - val_accuracy: 0.8050\n",
            "Epoch 33/150\n",
            "63/63 [==============================] - 1s 19ms/step - loss: 0.3493 - accuracy: 0.8895 - val_loss: 0.4404 - val_accuracy: 0.8125\n",
            "Epoch 34/150\n",
            "63/63 [==============================] - 1s 18ms/step - loss: 0.3427 - accuracy: 0.8915 - val_loss: 0.4487 - val_accuracy: 0.8050\n",
            "Epoch 35/150\n",
            "63/63 [==============================] - 1s 21ms/step - loss: 0.3376 - accuracy: 0.8955 - val_loss: 0.4461 - val_accuracy: 0.8050\n",
            "Epoch 36/150\n",
            "63/63 [==============================] - 1s 19ms/step - loss: 0.3322 - accuracy: 0.8995 - val_loss: 0.4452 - val_accuracy: 0.8025\n",
            "Epoch 37/150\n",
            "63/63 [==============================] - 1s 21ms/step - loss: 0.3269 - accuracy: 0.8990 - val_loss: 0.4388 - val_accuracy: 0.8075\n",
            "Epoch 38/150\n",
            "63/63 [==============================] - 1s 23ms/step - loss: 0.3219 - accuracy: 0.8995 - val_loss: 0.4362 - val_accuracy: 0.8075\n",
            "Epoch 39/150\n",
            "63/63 [==============================] - 1s 21ms/step - loss: 0.3170 - accuracy: 0.9015 - val_loss: 0.4407 - val_accuracy: 0.8025\n",
            "Epoch 40/150\n",
            "63/63 [==============================] - 1s 21ms/step - loss: 0.3122 - accuracy: 0.9055 - val_loss: 0.4270 - val_accuracy: 0.8125\n",
            "Epoch 41/150\n",
            "63/63 [==============================] - 1s 19ms/step - loss: 0.3078 - accuracy: 0.9025 - val_loss: 0.4365 - val_accuracy: 0.8075\n",
            "Epoch 42/150\n",
            "63/63 [==============================] - 1s 21ms/step - loss: 0.3034 - accuracy: 0.9030 - val_loss: 0.4392 - val_accuracy: 0.8075\n",
            "Epoch 43/150\n",
            "63/63 [==============================] - 1s 18ms/step - loss: 0.2998 - accuracy: 0.9010 - val_loss: 0.4501 - val_accuracy: 0.8075\n",
            "Epoch 44/150\n",
            "63/63 [==============================] - 1s 19ms/step - loss: 0.2953 - accuracy: 0.9065 - val_loss: 0.4420 - val_accuracy: 0.8075\n",
            "Epoch 45/150\n",
            "63/63 [==============================] - 1s 22ms/step - loss: 0.2911 - accuracy: 0.9085 - val_loss: 0.4239 - val_accuracy: 0.8075\n",
            "Epoch 46/150\n",
            "63/63 [==============================] - 1s 21ms/step - loss: 0.2873 - accuracy: 0.9095 - val_loss: 0.4405 - val_accuracy: 0.8100\n",
            "Epoch 47/150\n",
            "63/63 [==============================] - 1s 23ms/step - loss: 0.2838 - accuracy: 0.9075 - val_loss: 0.4319 - val_accuracy: 0.8125\n",
            "Epoch 48/150\n",
            "63/63 [==============================] - 1s 21ms/step - loss: 0.2802 - accuracy: 0.9100 - val_loss: 0.4399 - val_accuracy: 0.8150\n",
            "Epoch 49/150\n",
            "63/63 [==============================] - 1s 19ms/step - loss: 0.2764 - accuracy: 0.9110 - val_loss: 0.4228 - val_accuracy: 0.8075\n",
            "Epoch 50/150\n",
            "63/63 [==============================] - 1s 19ms/step - loss: 0.2737 - accuracy: 0.9090 - val_loss: 0.4371 - val_accuracy: 0.8150\n",
            "Epoch 51/150\n",
            "63/63 [==============================] - 1s 19ms/step - loss: 0.2706 - accuracy: 0.9100 - val_loss: 0.4322 - val_accuracy: 0.8150\n",
            "Epoch 52/150\n",
            "63/63 [==============================] - 1s 19ms/step - loss: 0.2672 - accuracy: 0.9110 - val_loss: 0.4380 - val_accuracy: 0.8150\n",
            "Epoch 53/150\n",
            "63/63 [==============================] - 1s 19ms/step - loss: 0.2642 - accuracy: 0.9140 - val_loss: 0.4382 - val_accuracy: 0.8150\n",
            "Epoch 54/150\n",
            "63/63 [==============================] - 1s 21ms/step - loss: 0.2615 - accuracy: 0.9155 - val_loss: 0.4421 - val_accuracy: 0.8150\n",
            "Epoch 55/150\n",
            "63/63 [==============================] - 1s 19ms/step - loss: 0.2580 - accuracy: 0.9140 - val_loss: 0.4575 - val_accuracy: 0.8075\n",
            "Epoch 56/150\n",
            "63/63 [==============================] - 1s 21ms/step - loss: 0.2554 - accuracy: 0.9155 - val_loss: 0.4281 - val_accuracy: 0.8150\n",
            "Epoch 57/150\n",
            "63/63 [==============================] - 1s 22ms/step - loss: 0.2537 - accuracy: 0.9155 - val_loss: 0.4325 - val_accuracy: 0.8150\n",
            "Epoch 58/150\n",
            "63/63 [==============================] - 1s 22ms/step - loss: 0.2509 - accuracy: 0.9160 - val_loss: 0.4159 - val_accuracy: 0.8125\n",
            "Epoch 59/150\n",
            "63/63 [==============================] - 1s 20ms/step - loss: 0.2481 - accuracy: 0.9180 - val_loss: 0.4505 - val_accuracy: 0.8150\n",
            "Epoch 60/150\n",
            "63/63 [==============================] - 1s 19ms/step - loss: 0.2459 - accuracy: 0.9170 - val_loss: 0.4331 - val_accuracy: 0.8125\n",
            "Epoch 61/150\n",
            "63/63 [==============================] - 1s 19ms/step - loss: 0.2435 - accuracy: 0.9180 - val_loss: 0.4401 - val_accuracy: 0.8200\n",
            "Epoch 62/150\n",
            "63/63 [==============================] - 1s 21ms/step - loss: 0.2410 - accuracy: 0.9190 - val_loss: 0.4325 - val_accuracy: 0.8175\n",
            "Epoch 63/150\n",
            "63/63 [==============================] - 1s 19ms/step - loss: 0.2395 - accuracy: 0.9185 - val_loss: 0.4639 - val_accuracy: 0.8000\n",
            "Epoch 64/150\n",
            "63/63 [==============================] - 1s 21ms/step - loss: 0.2375 - accuracy: 0.9200 - val_loss: 0.4709 - val_accuracy: 0.7925\n",
            "Epoch 65/150\n",
            "63/63 [==============================] - 1s 21ms/step - loss: 0.2345 - accuracy: 0.9200 - val_loss: 0.4678 - val_accuracy: 0.7950\n",
            "Epoch 66/150\n",
            "63/63 [==============================] - 1s 21ms/step - loss: 0.2330 - accuracy: 0.9205 - val_loss: 0.4465 - val_accuracy: 0.8150\n",
            "Epoch 67/150\n",
            "63/63 [==============================] - 1s 22ms/step - loss: 0.2301 - accuracy: 0.9220 - val_loss: 0.4715 - val_accuracy: 0.7950\n",
            "Epoch 68/150\n",
            "63/63 [==============================] - 1s 22ms/step - loss: 0.2286 - accuracy: 0.9175 - val_loss: 0.4526 - val_accuracy: 0.8125\n",
            "Epoch 69/150\n",
            "63/63 [==============================] - 1s 19ms/step - loss: 0.2265 - accuracy: 0.9220 - val_loss: 0.4586 - val_accuracy: 0.8025\n",
            "Epoch 70/150\n",
            "63/63 [==============================] - 1s 21ms/step - loss: 0.2244 - accuracy: 0.9220 - val_loss: 0.4547 - val_accuracy: 0.8075\n",
            "Epoch 71/150\n",
            "63/63 [==============================] - 1s 19ms/step - loss: 0.2229 - accuracy: 0.9225 - val_loss: 0.4620 - val_accuracy: 0.8025\n",
            "Epoch 72/150\n",
            "63/63 [==============================] - 1s 21ms/step - loss: 0.2210 - accuracy: 0.9220 - val_loss: 0.4337 - val_accuracy: 0.8175\n",
            "Epoch 73/150\n",
            "63/63 [==============================] - 1s 19ms/step - loss: 0.2199 - accuracy: 0.9215 - val_loss: 0.4505 - val_accuracy: 0.8175\n",
            "Epoch 74/150\n",
            "63/63 [==============================] - 1s 21ms/step - loss: 0.2182 - accuracy: 0.9235 - val_loss: 0.4694 - val_accuracy: 0.8000\n",
            "Epoch 75/150\n",
            "63/63 [==============================] - 1s 21ms/step - loss: 0.2169 - accuracy: 0.9245 - val_loss: 0.4866 - val_accuracy: 0.7925\n",
            "Epoch 76/150\n",
            "63/63 [==============================] - 1s 20ms/step - loss: 0.2150 - accuracy: 0.9250 - val_loss: 0.4563 - val_accuracy: 0.8075\n",
            "Epoch 77/150\n",
            "63/63 [==============================] - 1s 20ms/step - loss: 0.2131 - accuracy: 0.9240 - val_loss: 0.4592 - val_accuracy: 0.8075\n",
            "Epoch 78/150\n",
            "63/63 [==============================] - 1s 19ms/step - loss: 0.2116 - accuracy: 0.9250 - val_loss: 0.4608 - val_accuracy: 0.8075\n",
            "Epoch 79/150\n",
            "63/63 [==============================] - 1s 21ms/step - loss: 0.2098 - accuracy: 0.9260 - val_loss: 0.4849 - val_accuracy: 0.7950\n",
            "Epoch 80/150\n",
            "63/63 [==============================] - 1s 20ms/step - loss: 0.2088 - accuracy: 0.9260 - val_loss: 0.4672 - val_accuracy: 0.8050\n",
            "Epoch 81/150\n",
            "63/63 [==============================] - 1s 19ms/step - loss: 0.2073 - accuracy: 0.9250 - val_loss: 0.4824 - val_accuracy: 0.7975\n",
            "Epoch 82/150\n",
            "63/63 [==============================] - 1s 19ms/step - loss: 0.2060 - accuracy: 0.9250 - val_loss: 0.4773 - val_accuracy: 0.8000\n",
            "Epoch 83/150\n",
            "63/63 [==============================] - 1s 18ms/step - loss: 0.2045 - accuracy: 0.9280 - val_loss: 0.4500 - val_accuracy: 0.8100\n",
            "Epoch 84/150\n",
            "63/63 [==============================] - 1s 20ms/step - loss: 0.2035 - accuracy: 0.9265 - val_loss: 0.4709 - val_accuracy: 0.8025\n",
            "Epoch 85/150\n",
            "63/63 [==============================] - 1s 19ms/step - loss: 0.2016 - accuracy: 0.9270 - val_loss: 0.4527 - val_accuracy: 0.8100\n",
            "Epoch 86/150\n",
            "63/63 [==============================] - 1s 22ms/step - loss: 0.2023 - accuracy: 0.9290 - val_loss: 0.4756 - val_accuracy: 0.8025\n",
            "Epoch 87/150\n",
            "63/63 [==============================] - 1s 21ms/step - loss: 0.1993 - accuracy: 0.9310 - val_loss: 0.4726 - val_accuracy: 0.8025\n",
            "Epoch 88/150\n",
            "63/63 [==============================] - 1s 18ms/step - loss: 0.1985 - accuracy: 0.9295 - val_loss: 0.4811 - val_accuracy: 0.8025\n",
            "Epoch 89/150\n",
            "63/63 [==============================] - 1s 18ms/step - loss: 0.1973 - accuracy: 0.9305 - val_loss: 0.4824 - val_accuracy: 0.8025\n",
            "Epoch 90/150\n",
            "63/63 [==============================] - 1s 18ms/step - loss: 0.1965 - accuracy: 0.9310 - val_loss: 0.4764 - val_accuracy: 0.8050\n",
            "Epoch 91/150\n",
            "63/63 [==============================] - 1s 19ms/step - loss: 0.1953 - accuracy: 0.9305 - val_loss: 0.4789 - val_accuracy: 0.8050\n",
            "Epoch 92/150\n",
            "63/63 [==============================] - 1s 20ms/step - loss: 0.1939 - accuracy: 0.9320 - val_loss: 0.4775 - val_accuracy: 0.8050\n",
            "Epoch 93/150\n",
            "63/63 [==============================] - 1s 19ms/step - loss: 0.1927 - accuracy: 0.9325 - val_loss: 0.4916 - val_accuracy: 0.8000\n",
            "Epoch 94/150\n",
            "63/63 [==============================] - 1s 20ms/step - loss: 0.1918 - accuracy: 0.9325 - val_loss: 0.4800 - val_accuracy: 0.8050\n",
            "Epoch 95/150\n",
            "63/63 [==============================] - 1s 18ms/step - loss: 0.1908 - accuracy: 0.9310 - val_loss: 0.5088 - val_accuracy: 0.7850\n",
            "Epoch 96/150\n",
            "63/63 [==============================] - 1s 21ms/step - loss: 0.1899 - accuracy: 0.9330 - val_loss: 0.4887 - val_accuracy: 0.8025\n",
            "Epoch 97/150\n",
            "63/63 [==============================] - 1s 20ms/step - loss: 0.1887 - accuracy: 0.9345 - val_loss: 0.4992 - val_accuracy: 0.7950\n",
            "Epoch 98/150\n",
            "63/63 [==============================] - 1s 20ms/step - loss: 0.1879 - accuracy: 0.9345 - val_loss: 0.5045 - val_accuracy: 0.7925\n",
            "Epoch 99/150\n",
            "63/63 [==============================] - 1s 19ms/step - loss: 0.1868 - accuracy: 0.9375 - val_loss: 0.4741 - val_accuracy: 0.8075\n",
            "Epoch 100/150\n",
            "63/63 [==============================] - 1s 19ms/step - loss: 0.1866 - accuracy: 0.9345 - val_loss: 0.5361 - val_accuracy: 0.7700\n",
            "Epoch 101/150\n",
            "63/63 [==============================] - 1s 19ms/step - loss: 0.1854 - accuracy: 0.9365 - val_loss: 0.5121 - val_accuracy: 0.7850\n",
            "Epoch 102/150\n",
            "63/63 [==============================] - 1s 20ms/step - loss: 0.1849 - accuracy: 0.9370 - val_loss: 0.5002 - val_accuracy: 0.7950\n",
            "Epoch 103/150\n",
            "63/63 [==============================] - 1s 18ms/step - loss: 0.1834 - accuracy: 0.9375 - val_loss: 0.4929 - val_accuracy: 0.8050\n",
            "Epoch 104/150\n",
            "63/63 [==============================] - 1s 20ms/step - loss: 0.1835 - accuracy: 0.9360 - val_loss: 0.5148 - val_accuracy: 0.7875\n",
            "Epoch 105/150\n",
            "63/63 [==============================] - 1s 19ms/step - loss: 0.1820 - accuracy: 0.9385 - val_loss: 0.5007 - val_accuracy: 0.7950\n",
            "Epoch 106/150\n",
            "63/63 [==============================] - 1s 20ms/step - loss: 0.1820 - accuracy: 0.9385 - val_loss: 0.5053 - val_accuracy: 0.7950\n",
            "Epoch 107/150\n",
            "63/63 [==============================] - 1s 22ms/step - loss: 0.1805 - accuracy: 0.9395 - val_loss: 0.4900 - val_accuracy: 0.8050\n",
            "Epoch 108/150\n",
            "63/63 [==============================] - 1s 18ms/step - loss: 0.1803 - accuracy: 0.9380 - val_loss: 0.4997 - val_accuracy: 0.7975\n",
            "Epoch 109/150\n",
            "63/63 [==============================] - 1s 21ms/step - loss: 0.1792 - accuracy: 0.9395 - val_loss: 0.5252 - val_accuracy: 0.7850\n",
            "Epoch 110/150\n",
            "63/63 [==============================] - 1s 18ms/step - loss: 0.1783 - accuracy: 0.9400 - val_loss: 0.5328 - val_accuracy: 0.7775\n",
            "Epoch 111/150\n",
            "63/63 [==============================] - 1s 18ms/step - loss: 0.1776 - accuracy: 0.9390 - val_loss: 0.5199 - val_accuracy: 0.7900\n",
            "Epoch 112/150\n",
            "63/63 [==============================] - 1s 20ms/step - loss: 0.1769 - accuracy: 0.9405 - val_loss: 0.5253 - val_accuracy: 0.7900\n",
            "Epoch 113/150\n",
            "63/63 [==============================] - 1s 18ms/step - loss: 0.1760 - accuracy: 0.9405 - val_loss: 0.4980 - val_accuracy: 0.8000\n",
            "Epoch 114/150\n",
            "63/63 [==============================] - 1s 19ms/step - loss: 0.1757 - accuracy: 0.9400 - val_loss: 0.5054 - val_accuracy: 0.7975\n",
            "Epoch 115/150\n",
            "63/63 [==============================] - 1s 19ms/step - loss: 0.1754 - accuracy: 0.9405 - val_loss: 0.5214 - val_accuracy: 0.7900\n",
            "Epoch 116/150\n",
            "63/63 [==============================] - 1s 21ms/step - loss: 0.1746 - accuracy: 0.9395 - val_loss: 0.5168 - val_accuracy: 0.7900\n",
            "Epoch 117/150\n",
            "63/63 [==============================] - 1s 21ms/step - loss: 0.1738 - accuracy: 0.9390 - val_loss: 0.4855 - val_accuracy: 0.8050\n",
            "Epoch 118/150\n",
            "63/63 [==============================] - 1s 18ms/step - loss: 0.1741 - accuracy: 0.9365 - val_loss: 0.5241 - val_accuracy: 0.7900\n",
            "Epoch 119/150\n",
            "63/63 [==============================] - 1s 21ms/step - loss: 0.1722 - accuracy: 0.9415 - val_loss: 0.5368 - val_accuracy: 0.7800\n",
            "Epoch 120/150\n",
            "63/63 [==============================] - 1s 20ms/step - loss: 0.1716 - accuracy: 0.9410 - val_loss: 0.5386 - val_accuracy: 0.7800\n",
            "Epoch 121/150\n",
            "63/63 [==============================] - 1s 18ms/step - loss: 0.1710 - accuracy: 0.9410 - val_loss: 0.5249 - val_accuracy: 0.7900\n",
            "Epoch 122/150\n",
            "63/63 [==============================] - 1s 21ms/step - loss: 0.1705 - accuracy: 0.9420 - val_loss: 0.5364 - val_accuracy: 0.7800\n",
            "Epoch 123/150\n",
            "63/63 [==============================] - 1s 18ms/step - loss: 0.1704 - accuracy: 0.9410 - val_loss: 0.5868 - val_accuracy: 0.7550\n",
            "Epoch 124/150\n",
            "63/63 [==============================] - 1s 21ms/step - loss: 0.1699 - accuracy: 0.9415 - val_loss: 0.5444 - val_accuracy: 0.7750\n",
            "Epoch 125/150\n",
            "63/63 [==============================] - 1s 21ms/step - loss: 0.1689 - accuracy: 0.9425 - val_loss: 0.5422 - val_accuracy: 0.7800\n",
            "Epoch 126/150\n",
            "63/63 [==============================] - 1s 22ms/step - loss: 0.1683 - accuracy: 0.9410 - val_loss: 0.5565 - val_accuracy: 0.7750\n",
            "Epoch 127/150\n",
            "63/63 [==============================] - 1s 19ms/step - loss: 0.1680 - accuracy: 0.9425 - val_loss: 0.5414 - val_accuracy: 0.7800\n",
            "Epoch 128/150\n",
            "63/63 [==============================] - 1s 20ms/step - loss: 0.1672 - accuracy: 0.9425 - val_loss: 0.5655 - val_accuracy: 0.7700\n",
            "Epoch 129/150\n",
            "63/63 [==============================] - 1s 19ms/step - loss: 0.1668 - accuracy: 0.9420 - val_loss: 0.5458 - val_accuracy: 0.7750\n",
            "Epoch 130/150\n",
            "63/63 [==============================] - 1s 18ms/step - loss: 0.1665 - accuracy: 0.9410 - val_loss: 0.5244 - val_accuracy: 0.7925\n",
            "Epoch 131/150\n",
            "63/63 [==============================] - 1s 21ms/step - loss: 0.1657 - accuracy: 0.9410 - val_loss: 0.5464 - val_accuracy: 0.7750\n",
            "Epoch 132/150\n",
            "63/63 [==============================] - 1s 21ms/step - loss: 0.1654 - accuracy: 0.9430 - val_loss: 0.5513 - val_accuracy: 0.7750\n",
            "Epoch 133/150\n",
            "63/63 [==============================] - 1s 18ms/step - loss: 0.1650 - accuracy: 0.9430 - val_loss: 0.5619 - val_accuracy: 0.7750\n",
            "Epoch 134/150\n",
            "63/63 [==============================] - 1s 20ms/step - loss: 0.1645 - accuracy: 0.9440 - val_loss: 0.5894 - val_accuracy: 0.7625\n",
            "Epoch 135/150\n",
            "63/63 [==============================] - 1s 21ms/step - loss: 0.1646 - accuracy: 0.9450 - val_loss: 0.5535 - val_accuracy: 0.7775\n",
            "Epoch 136/150\n",
            "63/63 [==============================] - 1s 22ms/step - loss: 0.1636 - accuracy: 0.9435 - val_loss: 0.5575 - val_accuracy: 0.7750\n",
            "Epoch 137/150\n",
            "63/63 [==============================] - 1s 21ms/step - loss: 0.1634 - accuracy: 0.9435 - val_loss: 0.5506 - val_accuracy: 0.7750\n",
            "Epoch 138/150\n",
            "63/63 [==============================] - 1s 18ms/step - loss: 0.1626 - accuracy: 0.9425 - val_loss: 0.5615 - val_accuracy: 0.7750\n",
            "Epoch 139/150\n",
            "63/63 [==============================] - 1s 18ms/step - loss: 0.1621 - accuracy: 0.9455 - val_loss: 0.5422 - val_accuracy: 0.7825\n",
            "Epoch 140/150\n",
            "63/63 [==============================] - 1s 21ms/step - loss: 0.1617 - accuracy: 0.9435 - val_loss: 0.5264 - val_accuracy: 0.7900\n",
            "Epoch 141/150\n",
            "63/63 [==============================] - 1s 19ms/step - loss: 0.1614 - accuracy: 0.9460 - val_loss: 0.5732 - val_accuracy: 0.7725\n",
            "Epoch 142/150\n",
            "63/63 [==============================] - 1s 18ms/step - loss: 0.1616 - accuracy: 0.9455 - val_loss: 0.5767 - val_accuracy: 0.7700\n",
            "Epoch 143/150\n",
            "63/63 [==============================] - 1s 19ms/step - loss: 0.1612 - accuracy: 0.9435 - val_loss: 0.5694 - val_accuracy: 0.7725\n",
            "Epoch 144/150\n",
            "63/63 [==============================] - 1s 21ms/step - loss: 0.1605 - accuracy: 0.9430 - val_loss: 0.5756 - val_accuracy: 0.7725\n",
            "Epoch 145/150\n",
            "63/63 [==============================] - 1s 22ms/step - loss: 0.1597 - accuracy: 0.9440 - val_loss: 0.5883 - val_accuracy: 0.7625\n",
            "Epoch 146/150\n",
            "63/63 [==============================] - 1s 20ms/step - loss: 0.1597 - accuracy: 0.9445 - val_loss: 0.5568 - val_accuracy: 0.7750\n",
            "Epoch 147/150\n",
            "63/63 [==============================] - 1s 21ms/step - loss: 0.1593 - accuracy: 0.9440 - val_loss: 0.5691 - val_accuracy: 0.7725\n",
            "Epoch 148/150\n",
            "63/63 [==============================] - 1s 21ms/step - loss: 0.1583 - accuracy: 0.9440 - val_loss: 0.5351 - val_accuracy: 0.7875\n",
            "Epoch 149/150\n",
            "63/63 [==============================] - 1s 21ms/step - loss: 0.1590 - accuracy: 0.9455 - val_loss: 0.5503 - val_accuracy: 0.7850\n",
            "Epoch 150/150\n",
            "63/63 [==============================] - 1s 20ms/step - loss: 0.1587 - accuracy: 0.9465 - val_loss: 0.5814 - val_accuracy: 0.7650\n"
          ]
        },
        {
          "output_type": "display_data",
          "data": {
            "text/plain": [
              "<Figure size 640x480 with 1 Axes>"
            ],
            "image/png": "[encoded data removed]"
          },
          "metadata": {}
        }
      ]
    },
    {
      "cell_type": "markdown",
      "metadata": {
        "id": "h9Qp129rNV3U"
      },
      "source": [
        "# Milestone 4\n"
      ]
    },
    {
      "cell_type": "markdown",
      "metadata": {
        "id": "wwERVb37ylko"
      },
      "source": [
        "## Activity 4a. How did we do on pneumonia prediction?"
      ]
    },
    {
      "cell_type": "markdown",
      "metadata": {
        "id": "sXyQLXigDbtg"
      },
      "source": [
        "\n",
        "\n",
        "### Exercise (Coding)"
      ]
    },
    {
      "cell_type": "markdown",
      "metadata": {
        "id": "hBbSwkgVj7gS"
      },
      "source": [
        "Set your best model to the one you have trained (e.g., the transfer learning model)."
      ]
    },
    {
      "cell_type": "code",
      "metadata": {
        "id": "TmjOJCGDjsMk"
      },
      "source": [
        "best_model = transfer ## Change this if another model did better!"
      ],
      "execution_count": 41,
      "outputs": []
    },
    {
      "cell_type": "markdown",
      "metadata": {
        "id": "UBhDGS02VGHa"
      },
      "source": [
        "As we learned last week, total accuracy does not reflect all that we want to know about a model's performance. It's just one metric out of many possible metrics for evaluating models.\n",
        "\n",
        "In the case of pneumonia prediction, we may be more interested in other quantities, such as 'how accurate were we on the pneumonia category?' or 'how accurate were we on the normal category?' or 'how much of pneumonia were confused for normal?' or vice versa.\n",
        "\n"
      ]
    },
    {
      "cell_type": "markdown",
      "metadata": {
        "id": "T_GjNUEBMSke"
      },
      "source": [
        "Our metrics for classification can be described in terms of a 'confusion matrix', shown below.\n",
        "\n",
        "![Confusion Matrix](https://cdn-images-1.medium.com/max/1600/1*Z54JgbS4DUwWSknhDCvNTQ.png)\n",
        "\n",
        "In a confusion matrix, we think in terms of 'actual' and 'predicted values'. If we take Pneumonia = 1/Positive and Normal = 0/Negative, then **what do TP, FP, TN, and FN mean?**\n",
        "\n",
        "\n"
      ]
    },
    {
      "cell_type": "code",
      "metadata": {
        "id": "MuZI17S_wGUv"
      },
      "source": [
        "# True positive: True pneumonia: Pneumonia predicted as pneumonia\n",
        "# True negative: True normal: Normal predicted as normal\n",
        "# False positive: False pneumonia: Normal mistaken as pneumonia\n",
        "# False negative: False normal: Pneumonia mistaken as normal"
      ],
      "execution_count": 42,
      "outputs": []
    },
    {
      "cell_type": "markdown",
      "metadata": {
        "id": "BL0ns-b9GBym"
      },
      "source": [
        "The `sklearn` package makes calculating confusion matrices very quick! Its `metrics` submodule actually comes with a `confusion_matrix` tool. Let's start by grabbing that."
      ]
    },
    {
      "cell_type": "code",
      "metadata": {
        "id": "f2E5299cNEcp"
      },
      "source": [
        "from sklearn.metrics import accuracy_score, confusion_matrix"
      ],
      "execution_count": 43,
      "outputs": []
    },
    {
      "cell_type": "markdown",
      "metadata": {
        "id": "bvFawPv1NIyy"
      },
      "source": [
        "To use `confusion_matrix`, we need:\n",
        "* `labels`: the labels of the data (1 - PNEUMONIA or 0 - NORMAL)\n",
        "* `predictions`: what our model thinks the labels are\n",
        "\n",
        "To get `predictions`, you'll want to use ```(best_model.predict(X_test) > 0.5).astype(\"int32\")```.\n",
        "\n",
        "Please get the `predictions`, and use `accuracy_score` to print the overall test accuracy:"
      ]
    },
    {
      "cell_type": "code",
      "metadata": {
        "id": "Ke5_OhU1wlpU",
        "colab": {
          "base_uri": "https://localhost:8080/"
        },
        "outputId": "5cc99715-1ecc-46cc-9fb0-7bd997bc689d"
      },
      "source": [
        "#YOUR CODE HERE\n",
        "y_pred = (best_model.predict(X_test) > 0.5).astype(\"int32\")\n",
        "print('Accuracy: ', accuracy_score(y_test, y_pred)*100.0)"
      ],
      "execution_count": 49,
      "outputs": [
        {
          "output_type": "stream",
          "name": "stdout",
          "text": [
            "13/13 [==============================] - 0s 16ms/step\n",
            "Accuracy:  76.5\n"
          ]
        }
      ]
    },
    {
      "cell_type": "markdown",
      "metadata": {
        "id": "XcFGwTMDkCAp"
      },
      "source": [
        "Now let's get our confusion matrix, and split it out into true positive, true negative, false positive, and false negative!"
      ]
    },
    {
      "cell_type": "code",
      "metadata": {
        "id": "O7omQvlbkSTn",
        "colab": {
          "base_uri": "https://localhost:8080/"
        },
        "outputId": "23fd2560-0726-444e-891e-10cc7bbd185b"
      },
      "source": [
        "confusion = confusion_matrix(y_test, y_pred)\n",
        "print(confusion)"
      ],
      "execution_count": 45,
      "outputs": [
        {
          "output_type": "stream",
          "name": "stdout",
          "text": [
            "[[112  88]\n",
            " [  6 194]]\n"
          ]
        }
      ]
    },
    {
      "cell_type": "markdown",
      "metadata": {
        "id": "8zQjmPA4w8wJ"
      },
      "source": [
        "**How do you interpret each number?**"
      ]
    },
    {
      "cell_type": "code",
      "metadata": {
        "id": "K17HWY9Iw3gA",
        "colab": {
          "base_uri": "https://localhost:8080/"
        },
        "outputId": "dace2e5e-45b6-4363-b274-470113e5800f"
      },
      "source": [
        "tp  = confusion[1][1]\n",
        "tn  = confusion[0][0]\n",
        "fp = confusion[0][1]\n",
        "fn = confusion[1][0]\n",
        "\n",
        "print('True positive: %d'%tp)\n",
        "print('True negative: %d'%tn)\n",
        "print('False positive: %d'%fp)\n",
        "print('False negative: %d'%fn)"
      ],
      "execution_count": 46,
      "outputs": [
        {
          "output_type": "stream",
          "name": "stdout",
          "text": [
            "True positive: 194\n",
            "True negative: 112\n",
            "False positive: 88\n",
            "False negative: 6\n"
          ]
        }
      ]
    },
    {
      "cell_type": "markdown",
      "metadata": {
        "id": "eKlghw6_krXL"
      },
      "source": [
        "We can visualize the confusion matrix with seaborn to make it easier for our eyes..."
      ]
    },
    {
      "cell_type": "code",
      "metadata": {
        "id": "Q0Cp60eokseD"
      },
      "source": [
        "# grab our plotting package\n",
        "import seaborn as sns\n",
        "import matplotlib.pyplot as plt"
      ],
      "execution_count": 47,
      "outputs": []
    },
    {
      "cell_type": "code",
      "metadata": {
        "id": "l_Jwv2-OktLb",
        "colab": {
          "base_uri": "https://localhost:8080/",
          "height": 449
        },
        "outputId": "85205908-f9a3-4d06-dfa0-4594db1a6a5d"
      },
      "source": [
        "sns.heatmap(confusion, annot = True, fmt = 'd', cbar_kws={'label':'count'});\n",
        "plt.ylabel('Actual');\n",
        "plt.xlabel('Predicted');"
      ],
      "execution_count": 48,
      "outputs": [
        {
          "output_type": "display_data",
          "data": {
            "text/plain": [
              "<Figure size 640x480 with 2 Axes>"
            ],
            "image/png": "[encoded data removed]"
          },
          "metadata": {}
        }
      ]
    },
    {
      "cell_type": "markdown",
      "metadata": {
        "id": "RV85QOOGQ2xm"
      },
      "source": [
        "To recap, we built neural network models to see if we can do better than our baseline models performed. It turns out that we can! And, also, by introducing convolutions to our networks (making the convolutional neural networks), we can improve by quite a lot. Finally, we employed pretrained 'expert' models to boost our performance even further.\n",
        "\n",
        "In the next section, we'll test out our models on actual field data!"
      ]
    },
    {
      "cell_type": "markdown",
      "metadata": {
        "id": "14rKID6MOo4N"
      },
      "source": [
        "![](https://storage.googleapis.com/kaggle-competitions/kaggle/10338/logos/header.png)"
      ]
    }
  ]
}